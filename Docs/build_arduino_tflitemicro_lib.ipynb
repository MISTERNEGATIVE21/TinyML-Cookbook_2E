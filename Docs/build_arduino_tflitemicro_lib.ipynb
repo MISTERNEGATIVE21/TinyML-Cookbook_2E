{
  "nbformat": 4,
  "nbformat_minor": 0,
  "metadata": {
    "colab": {
      "provenance": []
    },
    "kernelspec": {
      "name": "python3",
      "display_name": "Python 3"
    },
    "language_info": {
      "name": "python"
    }
  },
  "cells": [
    {
      "cell_type": "markdown",
      "source": [
        "# <b>Build the Arduino TensorFlow Lite for Microcontrollers (tflite-micro) library </b>"
      ],
      "metadata": {
        "id": "C7dSSQwlI4rf"
      }
    },
    {
      "cell_type": "markdown",
      "source": [
        "### Reference tflite-micro git hash"
      ],
      "metadata": {
        "id": "-0N8vLQeJOZO"
      }
    },
    {
      "cell_type": "code",
      "source": [
        "REF_TFLITE_MICRO_CK='0709653ed4938c49bd8072d75f07b93059375d04'"
      ],
      "metadata": {
        "id": "g7NJ0oGrbYDc"
      },
      "execution_count": null,
      "outputs": []
    },
    {
      "cell_type": "markdown",
      "source": [
        "### Name for the Arduino library"
      ],
      "metadata": {
        "id": "F121WwSpJUQQ"
      }
    },
    {
      "cell_type": "code",
      "source": [
        "ARDUINO_LIB_NAME='Arduino_TensorFlowLite'"
      ],
      "metadata": {
        "id": "jEwArbHfgBEX"
      },
      "execution_count": null,
      "outputs": []
    },
    {
      "cell_type": "markdown",
      "source": [
        "### Clone the repo"
      ],
      "metadata": {
        "id": "5ND7wKboJZJY"
      }
    },
    {
      "cell_type": "code",
      "execution_count": null,
      "metadata": {
        "id": "GC5VFJ-6ZdS7"
      },
      "outputs": [],
      "source": [
        "!git clone https://github.com/tensorflow/tflite-micro-arduino-examples.git $ARDUINO_LIB_NAME"
      ]
    },
    {
      "cell_type": "markdown",
      "source": [
        "### Checkout the specific git hash"
      ],
      "metadata": {
        "id": "N0nfH1hrJcK_"
      }
    },
    {
      "cell_type": "code",
      "source": [
        "!cd $ARDUINO_LIB_NAME; git checkout $REF_TFLITE_MICRO_CK"
      ],
      "metadata": {
        "id": "84ESSEika_u9"
      },
      "execution_count": null,
      "outputs": []
    },
    {
      "cell_type": "markdown",
      "source": [
        "### Remove hidden files"
      ],
      "metadata": {
        "id": "B3cKKO3onBVI"
      }
    },
    {
      "cell_type": "code",
      "source": [
        "!rm -r $ARDUINO_LIB_NAME/.*"
      ],
      "metadata": {
        "id": "GGSW9HEcnDY9"
      },
      "execution_count": null,
      "outputs": []
    },
    {
      "cell_type": "markdown",
      "source": [
        "### Remove docs/, examples/, and script/ folder"
      ],
      "metadata": {
        "id": "VGLB3GsLat_V"
      }
    },
    {
      "cell_type": "code",
      "source": [
        "!rm -r $ARDUINO_LIB_NAME/docs\n",
        "!rm -r $ARDUINO_LIB_NAME/examples\n",
        "!rm -r $ARDUINO_LIB_NAME/scripts"
      ],
      "metadata": {
        "id": "vho5tMFaaoOh"
      },
      "execution_count": null,
      "outputs": []
    },
    {
      "cell_type": "markdown",
      "source": [
        "### Remove the test_over_serial folder"
      ],
      "metadata": {
        "id": "nGJ0pfG6cUNo"
      }
    },
    {
      "cell_type": "code",
      "source": [
        "!rm -r $ARDUINO_LIB_NAME/src/test_over_serial"
      ],
      "metadata": {
        "id": "gL0_S4bacSs5"
      },
      "execution_count": null,
      "outputs": []
    },
    {
      "cell_type": "markdown",
      "source": [
        "### Remove all files in the peripherals/ folder except for peripherals.h, utility.h and utility_arduino.cpp"
      ],
      "metadata": {
        "id": "atsfGNQ5c8cL"
      }
    },
    {
      "cell_type": "code",
      "source": [
        "!mv $ARDUINO_LIB_NAME/src/peripherals/peripherals.h .\n",
        "!mv $ARDUINO_LIB_NAME/src/peripherals/utility.h .\n",
        "!mv $ARDUINO_LIB_NAME/src/peripherals/utility_arduino.cpp .\n",
        "!rm -r $ARDUINO_LIB_NAME/src/peripherals/*\n",
        "!mv peripherals.h $ARDUINO_LIB_NAME/src/peripherals/\n",
        "!mv utility.h $ARDUINO_LIB_NAME/src/peripherals/\n",
        "!mv utility_arduino.cpp $ARDUINO_LIB_NAME/src/peripherals/"
      ],
      "metadata": {
        "id": "ulN7gi2tdLqg"
      },
      "execution_count": null,
      "outputs": []
    },
    {
      "cell_type": "markdown",
      "source": [
        "### Tweak the peripherals.h file to work with all Arduino compatible microcontrollers"
      ],
      "metadata": {
        "id": "G_aMetuGfIEn"
      }
    },
    {
      "cell_type": "code",
      "source": [
        "%%writefile $ARDUINO_LIB_NAME/src/peripherals/peripherals.h\n",
        "/* Copyright 2022 The TensorFlow Authors. All Rights Reserved.\n",
        "\n",
        "Licensed under the Apache License, Version 2.0 (the \"License\");\n",
        "you may not use this file except in compliance with the License.\n",
        "You may obtain a copy of the License at\n",
        "\n",
        "    http://www.apache.org/licenses/LICENSE-2.0\n",
        "\n",
        "Unless required by applicable law or agreed to in writing, software\n",
        "distributed under the License is distributed on an \"AS IS\" BASIS,\n",
        "WITHOUT WARRANTIES OR CONDITIONS OF ANY KIND, either express or implied.\n",
        "See the License for the specific language governing permissions and\n",
        "limitations under the License.\n",
        "==============================================================================*/\n",
        "\n",
        "#ifndef PERIPHERALS_H_\n",
        "#define PERIPHERALS_H_\n",
        "\n",
        "#ifdef ARDUINO\n",
        "#include <Arduino.h>\n",
        "#include <Wire.h>\n",
        "#else  // ARDUINO\n",
        "#error \"unsupported framework\"\n",
        "#endif  // ARDUINO\n",
        "\n",
        "#include \"utility.h\"\n",
        "\n",
        "#endif  // PERIPHERALS_H_"
      ],
      "metadata": {
        "id": "TpxCxMwqfPDp"
      },
      "execution_count": null,
      "outputs": []
    },
    {
      "cell_type": "markdown",
      "source": [
        "### Create the Zip file"
      ],
      "metadata": {
        "id": "IkdbTIdbgxfL"
      }
    },
    {
      "cell_type": "code",
      "source": [
        "ZIP_FILENAME=ARDUINO_LIB_NAME + '.zip'\n",
        "!zip -r $ZIP_FILENAME $ARDUINO_LIB_NAME -q\n",
        "!echo \"YOU CAN DOWNLOAD THE LIBRARY AND IMPORT IT IN THE ARDUINO IDE\""
      ],
      "metadata": {
        "id": "A0EaGrO8gzzK"
      },
      "execution_count": null,
      "outputs": []
    }
  ]
}