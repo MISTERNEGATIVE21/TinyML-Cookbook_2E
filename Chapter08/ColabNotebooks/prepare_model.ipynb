{
  "nbformat": 4,
  "nbformat_minor": 0,
  "metadata": {
    "colab": {
      "provenance": []
    },
    "kernelspec": {
      "name": "python3",
      "display_name": "Python 3"
    },
    "language_info": {
      "name": "python"
    },
    "accelerator": "GPU"
  },
  "cells": [
    {
      "cell_type": "markdown",
      "metadata": {
        "id": "7xc2grXmGVo4"
      },
      "source": [
        "# Chapter 8 - Classifying Desk Objects with TensorFlow and the Arduino Nano"
      ]
    },
    {
      "cell_type": "markdown",
      "metadata": {
        "id": "bCS8r9jvlfFi"
      },
      "source": [
        "### Python libraries"
      ]
    },
    {
      "cell_type": "code",
      "metadata": {
        "id": "9IzYsIvDlgx_"
      },
      "source": [
        "import numpy as np\n",
        "import tensorflow as tf\n",
        "from tensorflow.keras.applications.mobilenet_v2 import MobileNetV2\n",
        "from google.colab import drive"
      ],
      "execution_count": null,
      "outputs": []
    },
    {
      "cell_type": "markdown",
      "metadata": {
        "id": "EJchRFEmnwvl"
      },
      "source": [
        "### Constants"
      ]
    },
    {
      "cell_type": "code",
      "metadata": {
        "id": "6VGtgqiVFaY1"
      },
      "source": [
        "MODEL_ALPHA = 0.35\n",
        "MODEL_INPUT_WIDTH = 48\n",
        "MODEL_INPUT_HEIGHT = 48\n",
        "TFL_MODEL_FILE = \"model.tflite\"\n",
        "TFL_MODEL_HEADER_FILE = \"model.h\"\n",
        "TF_MODEL = \"desk_objects_recognition\""
      ],
      "execution_count": null,
      "outputs": []
    },
    {
      "cell_type": "markdown",
      "source": [
        "## Transfer learning with Keras"
      ],
      "metadata": {
        "id": "3J8L3YW_htYw"
      }
    },
    {
      "cell_type": "markdown",
      "source": [
        "### Mount the top-level Google Drive directory"
      ],
      "metadata": {
        "id": "YSlp-mPQhwuY"
      }
    },
    {
      "cell_type": "code",
      "metadata": {
        "id": "Tp1VN1OZGuEn"
      },
      "source": [
        "drive.mount('/content/drive')"
      ],
      "execution_count": null,
      "outputs": []
    },
    {
      "cell_type": "markdown",
      "metadata": {
        "id": "HMqMhiuvGpam"
      },
      "source": [
        "### Prepare the train (80%) and validation (20%) datasets"
      ]
    },
    {
      "cell_type": "code",
      "source": [
        "# CHANGE TO DESIRED TRAIN FOLDER\n",
        "train_dir = \"drive/MyDrive/dataset\"\n",
        "\n",
        "ds = tf.keras.utils.image_dataset_from_directory(\n",
        "  train_dir,\n",
        "  validation_split=0.2,\n",
        "  subset=\"both\",\n",
        "  seed=123,\n",
        "  interpolation=\"bilinear\",\n",
        "  image_size=(MODEL_INPUT_WIDTH, MODEL_INPUT_HEIGHT)\n",
        "  )\n",
        "\n",
        "train_ds = ds[0]\n",
        "val_ds   = ds[1]"
      ],
      "metadata": {
        "id": "F4-494uc-tEN"
      },
      "execution_count": null,
      "outputs": []
    },
    {
      "cell_type": "markdown",
      "source": [
        "### Get the number of classes from the training dataset"
      ],
      "metadata": {
        "id": "e7EpAg82rEph"
      }
    },
    {
      "cell_type": "code",
      "source": [
        "class_names = train_ds.class_names\n",
        "num_classes = len(class_names)\n",
        "print(class_names)"
      ],
      "metadata": {
        "id": "UA7_Fc6jq5yF"
      },
      "execution_count": null,
      "outputs": []
    },
    {
      "cell_type": "markdown",
      "metadata": {
        "id": "vEsZQCsUHaeb"
      },
      "source": [
        "### Rescale the pixel values from [0, 255] tp [-1, 1]"
      ]
    },
    {
      "cell_type": "code",
      "metadata": {
        "id": "-lFJZj50HhMV"
      },
      "source": [
        "rescale = tf.keras.layers.Rescaling(1./255, offset= -1)\n",
        "train_ds = train_ds.map(lambda x, y: (rescale(x), y))\n",
        "val_ds   = val_ds.map(lambda x, y: (rescale(x), y))"
      ],
      "execution_count": null,
      "outputs": []
    },
    {
      "cell_type": "markdown",
      "metadata": {
        "id": "OK0nFgtFSwsF"
      },
      "source": [
        "### Import the MobileNet v2 pre-trained model"
      ]
    },
    {
      "cell_type": "code",
      "metadata": {
        "id": "DbhSn1Bl-LZ7"
      },
      "source": [
        "# https://github.com/keras-team/keras-applications/blob/master/keras_applications/mobilenet_v2.py\n",
        "base_model = MobileNetV2(input_shape=(MODEL_INPUT_WIDTH, MODEL_INPUT_HEIGHT, 3),\n",
        "                         include_top=False,\n",
        "                         weights='imagenet',\n",
        "                         alpha=0.35)"
      ],
      "execution_count": null,
      "outputs": []
    },
    {
      "cell_type": "markdown",
      "source": [
        "### Freeze the weights"
      ],
      "metadata": {
        "id": "yVsTZ97hWFuw"
      }
    },
    {
      "cell_type": "code",
      "source": [
        "base_model.trainable = False\n",
        "feat_extr = base_model\n",
        "\n",
        "print(\"num. weights:\", len(base_model.weights))\n",
        "print(\"num. trainable_weights:\", len(base_model.trainable_weights))\n",
        "print(\"num. non_trainable_weights:\", len(base_model.non_trainable_weights))"
      ],
      "metadata": {
        "id": "-cTO-7YPWEKM"
      },
      "execution_count": null,
      "outputs": []
    },
    {
      "cell_type": "markdown",
      "metadata": {
        "id": "lOCL5dx-MmlD"
      },
      "source": [
        "### Augment the input data"
      ]
    },
    {
      "cell_type": "code",
      "source": [
        "preproc = tf.keras.layers.experimental.preprocessing\n",
        "augmen = tf.keras.Sequential([\n",
        "  preproc.RandomRotation(0.2),\n",
        "  preproc.RandomFlip('horizontal'),\n",
        "])\n",
        "\n",
        "train_ds = train_ds.map(lambda x, y: (augmen(x), y))\n",
        "val_ds   = val_ds.map(lambda x, y: (augmen(x), y))"
      ],
      "metadata": {
        "id": "7ebIppPRjUKF"
      },
      "execution_count": null,
      "outputs": []
    },
    {
      "cell_type": "markdown",
      "source": [
        "### Prepare the classification head"
      ],
      "metadata": {
        "id": "Qhw11eldjZoz"
      }
    },
    {
      "cell_type": "code",
      "metadata": {
        "id": "gC5CVjRNMn7q"
      },
      "source": [
        "layers = tf.keras.layers\n",
        "global_avg_layer = layers.GlobalAveragePooling2D()\n",
        "dense_layer = layers.Dense(num_classes, activation='softmax')"
      ],
      "execution_count": null,
      "outputs": []
    },
    {
      "cell_type": "markdown",
      "metadata": {
        "id": "IZYMkd0yM5tb"
      },
      "source": [
        "### Finalize the model architecture"
      ]
    },
    {
      "cell_type": "code",
      "metadata": {
        "id": "r-DTz_x5M7bg"
      },
      "source": [
        "x = global_avg_layer(feat_extr.layers[-1].output)\n",
        "x = layers.Dropout(0.2)(x)\n",
        "outputs = dense_layer(x)\n",
        "model = tf.keras.Model(inputs=feat_extr.inputs, outputs=outputs)"
      ],
      "execution_count": null,
      "outputs": []
    },
    {
      "cell_type": "markdown",
      "source": [
        "### Compile the model with a 0.0005 learning rate"
      ],
      "metadata": {
        "id": "X4AoQHO1j1a3"
      }
    },
    {
      "cell_type": "code",
      "metadata": {
        "id": "ZHPUqQNijqE5"
      },
      "source": [
        "lr = 0.0005\n",
        "opt_f = tf.keras.optimizers.Adam(learning_rate=lr)\n",
        "loss_f = tf.losses.SparseCategoricalCrossentropy(from_logits=False)\n",
        "\n",
        "model.compile(\n",
        "  optimizer=opt_f,\n",
        "  loss=loss_f,\n",
        "  metrics=['accuracy'])"
      ],
      "execution_count": null,
      "outputs": []
    },
    {
      "cell_type": "markdown",
      "source": [
        "### Model summary"
      ],
      "metadata": {
        "id": "x4M-8ftzj89-"
      }
    },
    {
      "cell_type": "code",
      "metadata": {
        "id": "WFXJSd6fj415"
      },
      "source": [
        "model.summary()"
      ],
      "execution_count": null,
      "outputs": []
    },
    {
      "cell_type": "markdown",
      "source": [
        "### Train the model with 10 epochs"
      ],
      "metadata": {
        "id": "25W5CUAVj_I9"
      }
    },
    {
      "cell_type": "code",
      "metadata": {
        "id": "na0GBGTQkavr"
      },
      "source": [
        "model.fit(\n",
        "  train_ds,\n",
        "  validation_data=val_ds,\n",
        "  epochs=10\n",
        ")"
      ],
      "execution_count": null,
      "outputs": []
    },
    {
      "cell_type": "markdown",
      "source": [
        "### Save the TensorFlow model"
      ],
      "metadata": {
        "id": "U0tsAdGikFa_"
      }
    },
    {
      "cell_type": "code",
      "metadata": {
        "id": "rOUI3vtLtYKh"
      },
      "source": [
        "model.save(TF_MODEL)"
      ],
      "execution_count": null,
      "outputs": []
    },
    {
      "cell_type": "markdown",
      "metadata": {
        "id": "KntdZZ5ruM7Z"
      },
      "source": [
        "## Quantizing and testing the trained model with TensorFlow Lite"
      ]
    },
    {
      "cell_type": "markdown",
      "source": [
        "### Acquire new images for the test dataset"
      ],
      "metadata": {
        "id": "srHkdaf_kk97"
      }
    },
    {
      "cell_type": "code",
      "source": [
        "# CHANGE TO DESIRED TEST DATASET FOLDER\n",
        "test_dir = \"drive/MyDrive/test\""
      ],
      "metadata": {
        "id": "ZxnVbqxkkspY"
      },
      "execution_count": null,
      "outputs": []
    },
    {
      "cell_type": "markdown",
      "source": [
        "### Rescale the pixel values from [0, 255] to [-1, 1]"
      ],
      "metadata": {
        "id": "jzTiU6qQk_Bv"
      }
    },
    {
      "cell_type": "code",
      "source": [
        "test_ds = tf.keras.utils.image_dataset_from_directory(test_dir,\n",
        "                                                      interpolation=\"bilinear\",\n",
        "                                                      image_size=(MODEL_INPUT_WIDTH, MODEL_INPUT_HEIGHT))\n",
        "test_ds  = test_ds.map(lambda x, y: (rescale(x), y))"
      ],
      "metadata": {
        "id": "vYHpua21lGXp"
      },
      "execution_count": null,
      "outputs": []
    },
    {
      "cell_type": "markdown",
      "source": [
        "### Quantize the TensorFlow model with the TensorFlow Lite converter"
      ],
      "metadata": {
        "id": "riqPFiWllkdg"
      }
    },
    {
      "cell_type": "code",
      "metadata": {
        "id": "ALWbwZKBuNl8"
      },
      "source": [
        "repr_ds = test_ds.unbatch()\n",
        "\n",
        "def representative_data_gen():\n",
        "  for i_value, o_value in repr_ds.batch(1).take(48):\n",
        "    yield [i_value]\n",
        "\n",
        "converter = tf.lite.TFLiteConverter.from_saved_model(TF_MODEL)\n",
        "converter.representative_dataset = tf.lite.RepresentativeDataset(representative_data_gen)\n",
        "converter.optimizations = [tf.lite.Optimize.DEFAULT]\n",
        "converter.target_spec.supported_ops = [tf.lite.OpsSet.TFLITE_BUILTINS_INT8]\n",
        "converter.inference_input_type = tf.int8\n",
        "\n",
        "tfl_model = converter.convert()"
      ],
      "execution_count": null,
      "outputs": []
    },
    {
      "cell_type": "markdown",
      "source": [
        "### Initialize the TensorFlow Lite interpreter"
      ],
      "metadata": {
        "id": "1Br6hq8Cl4nU"
      }
    },
    {
      "cell_type": "code",
      "metadata": {
        "id": "ACsaQjxzP2Wd"
      },
      "source": [
        "# Initialize the TFLite interpreter\n",
        "interp = tf.lite.Interpreter(model_content=tfl_model)"
      ],
      "execution_count": null,
      "outputs": []
    },
    {
      "cell_type": "markdown",
      "source": [
        "### Allocate the tensor and get input quantization parameters"
      ],
      "metadata": {
        "id": "OxxhFk-7l9J2"
      }
    },
    {
      "cell_type": "code",
      "source": [
        "# Allocate the tensors\n",
        "interp.allocate_tensors()\n",
        "\n",
        "# Get input/output layer information\n",
        "i_details = interp.get_input_details()[0]\n",
        "o_details = interp.get_output_details()[0]\n",
        "\n",
        "# Get input quantization parameters.\n",
        "i_quant = i_details[\"quantization_parameters\"]\n",
        "i_scale      = i_quant['scales'][0]\n",
        "i_zero_point = i_quant['zero_points'][0]"
      ],
      "metadata": {
        "id": "nrH3uM8Gl_Hg"
      },
      "execution_count": null,
      "outputs": []
    },
    {
      "cell_type": "markdown",
      "source": [
        "### Evaluate the accuracy of the quantized TensorFlow Lite model"
      ],
      "metadata": {
        "id": "WQcFhKfumT1B"
      }
    },
    {
      "cell_type": "code",
      "source": [
        "test_ds0 = test_ds.unbatch()\n",
        "\n",
        "num_correct_samples = 0\n",
        "num_samples   = len(list(test_ds0.batch(1)))\n",
        "\n",
        "for i_value, o_value in test_ds0.batch(1):\n",
        "  i_value = (i_value / i_scale) + i_zero_point\n",
        "  i_value = tf.cast(i_value, dtype=tf.int8)\n",
        "  interp.set_tensor(i_details[\"index\"], i_value)\n",
        "  interp.invoke()\n",
        "  o_pred = interp.get_tensor(o_details[\"index\"])[0]\n",
        "\n",
        "  if np.argmax(o_pred) == o_value:\n",
        "    num_correct_samples += 1\n",
        "\n",
        "print(\"Accuracy:\", num_correct_samples/num_samples)"
      ],
      "metadata": {
        "id": "1vlIBfMHmWT-"
      },
      "execution_count": null,
      "outputs": []
    },
    {
      "cell_type": "markdown",
      "source": [
        "### Convert the TensorFlow model to C-byte array with xxd"
      ],
      "metadata": {
        "id": "tM-ZaNUHmkBm"
      }
    },
    {
      "cell_type": "code",
      "source": [
        "open(TFL_MODEL_FILE, \"wb\").write(tfl_model)"
      ],
      "metadata": {
        "id": "U2OVeMZPD97C"
      },
      "execution_count": null,
      "outputs": []
    },
    {
      "cell_type": "code",
      "metadata": {
        "id": "3kAnQgmI0QK_"
      },
      "source": [
        "!apt-get update && apt-get -qq install xxd\n",
        "!xxd -c 60 -i $TFL_MODEL_FILE > $TFL_MODEL_HEADER_FILE\n",
        "!sed -i 's/unsigned char/const unsigned char/g' $TFL_MODEL_HEADER_FILE\n",
        "!sed -i 's/const/alignas(8) const/g' $TFL_MODEL_HEADER_FILE"
      ],
      "execution_count": null,
      "outputs": []
    },
    {
      "cell_type": "markdown",
      "source": [
        "### Get the TensorFlow model size in bytes to estimate the program memory usage"
      ],
      "metadata": {
        "id": "nQg4FbwzluB8"
      }
    },
    {
      "cell_type": "code",
      "source": [
        "size_tfl_model = len(tfl_model)\n",
        "print(len(tfl_model), \"bytes\")"
      ],
      "metadata": {
        "id": "IFIpV1uUlxiZ"
      },
      "execution_count": null,
      "outputs": []
    }
  ]
}