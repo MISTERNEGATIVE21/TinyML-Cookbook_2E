{
  "nbformat": 4,
  "nbformat_minor": 0,
  "metadata": {
    "colab": {
      "provenance": []
    },
    "kernelspec": {
      "name": "python3",
      "display_name": "Python 3"
    },
    "language_info": {
      "name": "python"
    },
    "accelerator": "GPU"
  },
  "cells": [
    {
      "cell_type": "markdown",
      "metadata": {
        "id": "7xc2grXmGVo4"
      },
      "source": [
        "# Chapter 7 - Classifying Desk Objects with TensorFlow and the Arduino Nano"
      ]
    },
    {
      "cell_type": "markdown",
      "metadata": {
        "id": "bCS8r9jvlfFi"
      },
      "source": [
        "### Python libraries"
      ]
    },
    {
      "cell_type": "code",
      "metadata": {
        "id": "9IzYsIvDlgx_"
      },
      "source": [
        "import numpy as np\n",
        "import tensorflow as tf\n",
        "from tensorflow.keras.applications.mobilenet_v2 import MobileNetV2\n",
        "from google.colab import drive"
      ],
      "execution_count": null,
      "outputs": []
    },
    {
      "cell_type": "markdown",
      "metadata": {
        "id": "EJchRFEmnwvl"
      },
      "source": [
        "### Constants"
      ]
    },
    {
      "cell_type": "code",
      "metadata": {
        "id": "6VGtgqiVFaY1"
      },
      "source": [
        "MODEL_ALPHA = 0.35\n",
        "MODEL_INPUT_WIDTH = 48\n",
        "MODEL_INPUT_HEIGHT = 48\n",
        "TFL_MODEL_FILE = \"model.tflite\"\n",
        "TFL_MODEL_HEADER_FILE = \"model.h\"\n",
        "TF_MODEL = \"desk_objects_recognition\""
      ],
      "execution_count": null,
      "outputs": []
    },
    {
      "cell_type": "markdown",
      "source": [
        "## Transfer learning with Keras"
      ],
      "metadata": {
        "id": "3J8L3YW_htYw"
      }
    },
    {
      "cell_type": "markdown",
      "source": [
        "### Mount the top-level Google Drive directory"
      ],
      "metadata": {
        "id": "YSlp-mPQhwuY"
      }
    },
    {
      "cell_type": "code",
      "metadata": {
        "id": "Tp1VN1OZGuEn",
        "colab": {
          "base_uri": "https://localhost:8080/"
        },
        "outputId": "1baf41ac-d00f-4fbd-e805-947c2512d5c3"
      },
      "source": [
        "drive.mount('/content/drive')"
      ],
      "execution_count": null,
      "outputs": [
        {
          "output_type": "stream",
          "name": "stdout",
          "text": [
            "Mounted at /content/drive\n"
          ]
        }
      ]
    },
    {
      "cell_type": "markdown",
      "metadata": {
        "id": "HMqMhiuvGpam"
      },
      "source": [
        "### Prepare the train (80%) and validation (20%) datasets"
      ]
    },
    {
      "cell_type": "code",
      "source": [
        "# CHANGE TO DESIRED TRAIN FOLDER\n",
        "train_dir = \"drive/MyDrive/dataset\"\n",
        "\n",
        "ds = tf.keras.utils.image_dataset_from_directory(\n",
        "  train_dir,\n",
        "  validation_split=0.2,\n",
        "  subset=\"both\",\n",
        "  seed=123,\n",
        "  interpolation=\"bilinear\",\n",
        "  image_size=(MODEL_INPUT_WIDTH, MODEL_INPUT_HEIGHT)\n",
        "  )\n",
        "\n",
        "train_ds = ds[0]\n",
        "val_ds   = ds[1]"
      ],
      "metadata": {
        "id": "F4-494uc-tEN",
        "colab": {
          "base_uri": "https://localhost:8080/"
        },
        "outputId": "0716a4cb-96c2-480f-a195-d7a794517f0c"
      },
      "execution_count": null,
      "outputs": [
        {
          "output_type": "stream",
          "name": "stdout",
          "text": [
            "Found 60 files belonging to 3 classes.\n",
            "Using 48 files for training.\n",
            "Using 12 files for validation.\n"
          ]
        }
      ]
    },
    {
      "cell_type": "markdown",
      "source": [
        "### Get the number of classes from the training dataset"
      ],
      "metadata": {
        "id": "e7EpAg82rEph"
      }
    },
    {
      "cell_type": "code",
      "source": [
        "class_names = train_ds.class_names\n",
        "num_classes = len(class_names)\n",
        "print(class_names)"
      ],
      "metadata": {
        "id": "UA7_Fc6jq5yF",
        "colab": {
          "base_uri": "https://localhost:8080/"
        },
        "outputId": "0c1cc08b-2bae-4494-968e-679c4de0e3d8"
      },
      "execution_count": null,
      "outputs": [
        {
          "output_type": "stream",
          "name": "stdout",
          "text": [
            "['book', 'mug', 'unknown']\n"
          ]
        }
      ]
    },
    {
      "cell_type": "markdown",
      "metadata": {
        "id": "vEsZQCsUHaeb"
      },
      "source": [
        "### Rescale the pixel values from [0, 255] tp [-1, 1]"
      ]
    },
    {
      "cell_type": "code",
      "metadata": {
        "id": "-lFJZj50HhMV"
      },
      "source": [
        "rescale = tf.keras.layers.Rescaling(1./255, offset= -1)\n",
        "train_ds = train_ds.map(lambda x, y: (rescale(x), y))\n",
        "val_ds   = val_ds.map(lambda x, y: (rescale(x), y))"
      ],
      "execution_count": null,
      "outputs": []
    },
    {
      "cell_type": "markdown",
      "metadata": {
        "id": "OK0nFgtFSwsF"
      },
      "source": [
        "### Import the MobileNet v2 pre-trained model"
      ]
    },
    {
      "cell_type": "code",
      "metadata": {
        "id": "DbhSn1Bl-LZ7",
        "colab": {
          "base_uri": "https://localhost:8080/"
        },
        "outputId": "1d134bad-e28c-4ca1-c2a1-b99a0eb71adc"
      },
      "source": [
        "# https://github.com/keras-team/keras-applications/blob/master/keras_applications/mobilenet_v2.py\n",
        "base_model = MobileNetV2(input_shape=(MODEL_INPUT_WIDTH, MODEL_INPUT_HEIGHT, 3),\n",
        "                         include_top=False,\n",
        "                         weights='imagenet',\n",
        "                         alpha=0.35)"
      ],
      "execution_count": null,
      "outputs": [
        {
          "output_type": "stream",
          "name": "stderr",
          "text": [
            "WARNING:tensorflow:`input_shape` is undefined or non-square, or `rows` is not in [96, 128, 160, 192, 224]. Weights for input shape (224, 224) will be loaded as the default.\n"
          ]
        },
        {
          "output_type": "stream",
          "name": "stdout",
          "text": [
            "Downloading data from https://storage.googleapis.com/tensorflow/keras-applications/mobilenet_v2/mobilenet_v2_weights_tf_dim_ordering_tf_kernels_0.35_224_no_top.h5\n",
            "2019640/2019640 [==============================] - 0s 0us/step\n"
          ]
        }
      ]
    },
    {
      "cell_type": "markdown",
      "source": [
        "### Freeze the weights"
      ],
      "metadata": {
        "id": "yVsTZ97hWFuw"
      }
    },
    {
      "cell_type": "code",
      "source": [
        "base_model.trainable = False\n",
        "feat_extr = base_model\n",
        "\n",
        "print(\"num. weights:\", len(base_model.weights))\n",
        "print(\"num. trainable_weights:\", len(base_model.trainable_weights))\n",
        "print(\"num. non_trainable_weights:\", len(base_model.non_trainable_weights))"
      ],
      "metadata": {
        "id": "-cTO-7YPWEKM",
        "colab": {
          "base_uri": "https://localhost:8080/"
        },
        "outputId": "16ff2aa2-2bba-4d3a-8107-53ea9d095cb1"
      },
      "execution_count": null,
      "outputs": [
        {
          "output_type": "stream",
          "name": "stdout",
          "text": [
            "num. weights: 260\n",
            "num. trainable_weights: 0\n",
            "num. non_trainable_weights: 260\n"
          ]
        }
      ]
    },
    {
      "cell_type": "markdown",
      "metadata": {
        "id": "lOCL5dx-MmlD"
      },
      "source": [
        "### Augment the input data"
      ]
    },
    {
      "cell_type": "code",
      "source": [
        "preproc = tf.keras.layers.experimental.preprocessing\n",
        "augmen = tf.keras.Sequential([\n",
        "  preproc.RandomRotation(0.2),\n",
        "  preproc.RandomFlip('horizontal'),\n",
        "])\n",
        "\n",
        "train_ds = train_ds.map(lambda x, y: (augmen(x), y))\n",
        "val_ds   = val_ds.map(lambda x, y: (augmen(x), y))"
      ],
      "metadata": {
        "id": "7ebIppPRjUKF"
      },
      "execution_count": null,
      "outputs": []
    },
    {
      "cell_type": "markdown",
      "source": [
        "### Prepare the classification head"
      ],
      "metadata": {
        "id": "Qhw11eldjZoz"
      }
    },
    {
      "cell_type": "code",
      "metadata": {
        "id": "gC5CVjRNMn7q"
      },
      "source": [
        "layers = tf.keras.layers\n",
        "global_avg_layer = layers.GlobalAveragePooling2D()\n",
        "dense_layer = layers.Dense(num_classes, activation='softmax')"
      ],
      "execution_count": null,
      "outputs": []
    },
    {
      "cell_type": "markdown",
      "metadata": {
        "id": "IZYMkd0yM5tb"
      },
      "source": [
        "### Finalize the model architecture"
      ]
    },
    {
      "cell_type": "code",
      "metadata": {
        "id": "r-DTz_x5M7bg"
      },
      "source": [
        "x = global_avg_layer(feat_extr.layers[-1].output)\n",
        "x = layers.Dropout(0.2)(x)\n",
        "outputs = dense_layer(x)\n",
        "model = tf.keras.Model(inputs=feat_extr.inputs, outputs=outputs)"
      ],
      "execution_count": null,
      "outputs": []
    },
    {
      "cell_type": "markdown",
      "source": [
        "### Compile the model with a 0.0005 learning rate"
      ],
      "metadata": {
        "id": "X4AoQHO1j1a3"
      }
    },
    {
      "cell_type": "code",
      "metadata": {
        "id": "ZHPUqQNijqE5"
      },
      "source": [
        "lr = 0.0005\n",
        "opt_f = tf.keras.optimizers.Adam(learning_rate=lr)\n",
        "loss_f = tf.losses.SparseCategoricalCrossentropy(from_logits=False)\n",
        "\n",
        "model.compile(\n",
        "  optimizer=opt_f,\n",
        "  loss=loss_f,\n",
        "  metrics=['accuracy'])"
      ],
      "execution_count": null,
      "outputs": []
    },
    {
      "cell_type": "markdown",
      "source": [
        "### Model summary"
      ],
      "metadata": {
        "id": "x4M-8ftzj89-"
      }
    },
    {
      "cell_type": "code",
      "metadata": {
        "id": "WFXJSd6fj415",
        "colab": {
          "base_uri": "https://localhost:8080/"
        },
        "outputId": "e2d10999-bf53-40e6-875b-b2334b369f65"
      },
      "source": [
        "model.summary()"
      ],
      "execution_count": null,
      "outputs": [
        {
          "output_type": "stream",
          "name": "stdout",
          "text": [
            "Model: \"model\"\n",
            "__________________________________________________________________________________________________\n",
            " Layer (type)                Output Shape                 Param #   Connected to                  \n",
            "==================================================================================================\n",
            " input_1 (InputLayer)        [(None, 48, 48, 3)]          0         []                            \n",
            "                                                                                                  \n",
            " Conv1 (Conv2D)              (None, 24, 24, 16)           432       ['input_1[0][0]']             \n",
            "                                                                                                  \n",
            " bn_Conv1 (BatchNormalizati  (None, 24, 24, 16)           64        ['Conv1[0][0]']               \n",
            " on)                                                                                              \n",
            "                                                                                                  \n",
            " Conv1_relu (ReLU)           (None, 24, 24, 16)           0         ['bn_Conv1[0][0]']            \n",
            "                                                                                                  \n",
            " expanded_conv_depthwise (D  (None, 24, 24, 16)           144       ['Conv1_relu[0][0]']          \n",
            " epthwiseConv2D)                                                                                  \n",
            "                                                                                                  \n",
            " expanded_conv_depthwise_BN  (None, 24, 24, 16)           64        ['expanded_conv_depthwise[0][0\n",
            "  (BatchNormalization)                                              ]']                           \n",
            "                                                                                                  \n",
            " expanded_conv_depthwise_re  (None, 24, 24, 16)           0         ['expanded_conv_depthwise_BN[0\n",
            " lu (ReLU)                                                          ][0]']                        \n",
            "                                                                                                  \n",
            " expanded_conv_project (Con  (None, 24, 24, 8)            128       ['expanded_conv_depthwise_relu\n",
            " v2D)                                                               [0][0]']                      \n",
            "                                                                                                  \n",
            " expanded_conv_project_BN (  (None, 24, 24, 8)            32        ['expanded_conv_project[0][0]'\n",
            " BatchNormalization)                                                ]                             \n",
            "                                                                                                  \n",
            " block_1_expand (Conv2D)     (None, 24, 24, 48)           384       ['expanded_conv_project_BN[0][\n",
            "                                                                    0]']                          \n",
            "                                                                                                  \n",
            " block_1_expand_BN (BatchNo  (None, 24, 24, 48)           192       ['block_1_expand[0][0]']      \n",
            " rmalization)                                                                                     \n",
            "                                                                                                  \n",
            " block_1_expand_relu (ReLU)  (None, 24, 24, 48)           0         ['block_1_expand_BN[0][0]']   \n",
            "                                                                                                  \n",
            " block_1_pad (ZeroPadding2D  (None, 25, 25, 48)           0         ['block_1_expand_relu[0][0]'] \n",
            " )                                                                                                \n",
            "                                                                                                  \n",
            " block_1_depthwise (Depthwi  (None, 12, 12, 48)           432       ['block_1_pad[0][0]']         \n",
            " seConv2D)                                                                                        \n",
            "                                                                                                  \n",
            " block_1_depthwise_BN (Batc  (None, 12, 12, 48)           192       ['block_1_depthwise[0][0]']   \n",
            " hNormalization)                                                                                  \n",
            "                                                                                                  \n",
            " block_1_depthwise_relu (Re  (None, 12, 12, 48)           0         ['block_1_depthwise_BN[0][0]']\n",
            " LU)                                                                                              \n",
            "                                                                                                  \n",
            " block_1_project (Conv2D)    (None, 12, 12, 8)            384       ['block_1_depthwise_relu[0][0]\n",
            "                                                                    ']                            \n",
            "                                                                                                  \n",
            " block_1_project_BN (BatchN  (None, 12, 12, 8)            32        ['block_1_project[0][0]']     \n",
            " ormalization)                                                                                    \n",
            "                                                                                                  \n",
            " block_2_expand (Conv2D)     (None, 12, 12, 48)           384       ['block_1_project_BN[0][0]']  \n",
            "                                                                                                  \n",
            " block_2_expand_BN (BatchNo  (None, 12, 12, 48)           192       ['block_2_expand[0][0]']      \n",
            " rmalization)                                                                                     \n",
            "                                                                                                  \n",
            " block_2_expand_relu (ReLU)  (None, 12, 12, 48)           0         ['block_2_expand_BN[0][0]']   \n",
            "                                                                                                  \n",
            " block_2_depthwise (Depthwi  (None, 12, 12, 48)           432       ['block_2_expand_relu[0][0]'] \n",
            " seConv2D)                                                                                        \n",
            "                                                                                                  \n",
            " block_2_depthwise_BN (Batc  (None, 12, 12, 48)           192       ['block_2_depthwise[0][0]']   \n",
            " hNormalization)                                                                                  \n",
            "                                                                                                  \n",
            " block_2_depthwise_relu (Re  (None, 12, 12, 48)           0         ['block_2_depthwise_BN[0][0]']\n",
            " LU)                                                                                              \n",
            "                                                                                                  \n",
            " block_2_project (Conv2D)    (None, 12, 12, 8)            384       ['block_2_depthwise_relu[0][0]\n",
            "                                                                    ']                            \n",
            "                                                                                                  \n",
            " block_2_project_BN (BatchN  (None, 12, 12, 8)            32        ['block_2_project[0][0]']     \n",
            " ormalization)                                                                                    \n",
            "                                                                                                  \n",
            " block_2_add (Add)           (None, 12, 12, 8)            0         ['block_1_project_BN[0][0]',  \n",
            "                                                                     'block_2_project_BN[0][0]']  \n",
            "                                                                                                  \n",
            " block_3_expand (Conv2D)     (None, 12, 12, 48)           384       ['block_2_add[0][0]']         \n",
            "                                                                                                  \n",
            " block_3_expand_BN (BatchNo  (None, 12, 12, 48)           192       ['block_3_expand[0][0]']      \n",
            " rmalization)                                                                                     \n",
            "                                                                                                  \n",
            " block_3_expand_relu (ReLU)  (None, 12, 12, 48)           0         ['block_3_expand_BN[0][0]']   \n",
            "                                                                                                  \n",
            " block_3_pad (ZeroPadding2D  (None, 13, 13, 48)           0         ['block_3_expand_relu[0][0]'] \n",
            " )                                                                                                \n",
            "                                                                                                  \n",
            " block_3_depthwise (Depthwi  (None, 6, 6, 48)             432       ['block_3_pad[0][0]']         \n",
            " seConv2D)                                                                                        \n",
            "                                                                                                  \n",
            " block_3_depthwise_BN (Batc  (None, 6, 6, 48)             192       ['block_3_depthwise[0][0]']   \n",
            " hNormalization)                                                                                  \n",
            "                                                                                                  \n",
            " block_3_depthwise_relu (Re  (None, 6, 6, 48)             0         ['block_3_depthwise_BN[0][0]']\n",
            " LU)                                                                                              \n",
            "                                                                                                  \n",
            " block_3_project (Conv2D)    (None, 6, 6, 16)             768       ['block_3_depthwise_relu[0][0]\n",
            "                                                                    ']                            \n",
            "                                                                                                  \n",
            " block_3_project_BN (BatchN  (None, 6, 6, 16)             64        ['block_3_project[0][0]']     \n",
            " ormalization)                                                                                    \n",
            "                                                                                                  \n",
            " block_4_expand (Conv2D)     (None, 6, 6, 96)             1536      ['block_3_project_BN[0][0]']  \n",
            "                                                                                                  \n",
            " block_4_expand_BN (BatchNo  (None, 6, 6, 96)             384       ['block_4_expand[0][0]']      \n",
            " rmalization)                                                                                     \n",
            "                                                                                                  \n",
            " block_4_expand_relu (ReLU)  (None, 6, 6, 96)             0         ['block_4_expand_BN[0][0]']   \n",
            "                                                                                                  \n",
            " block_4_depthwise (Depthwi  (None, 6, 6, 96)             864       ['block_4_expand_relu[0][0]'] \n",
            " seConv2D)                                                                                        \n",
            "                                                                                                  \n",
            " block_4_depthwise_BN (Batc  (None, 6, 6, 96)             384       ['block_4_depthwise[0][0]']   \n",
            " hNormalization)                                                                                  \n",
            "                                                                                                  \n",
            " block_4_depthwise_relu (Re  (None, 6, 6, 96)             0         ['block_4_depthwise_BN[0][0]']\n",
            " LU)                                                                                              \n",
            "                                                                                                  \n",
            " block_4_project (Conv2D)    (None, 6, 6, 16)             1536      ['block_4_depthwise_relu[0][0]\n",
            "                                                                    ']                            \n",
            "                                                                                                  \n",
            " block_4_project_BN (BatchN  (None, 6, 6, 16)             64        ['block_4_project[0][0]']     \n",
            " ormalization)                                                                                    \n",
            "                                                                                                  \n",
            " block_4_add (Add)           (None, 6, 6, 16)             0         ['block_3_project_BN[0][0]',  \n",
            "                                                                     'block_4_project_BN[0][0]']  \n",
            "                                                                                                  \n",
            " block_5_expand (Conv2D)     (None, 6, 6, 96)             1536      ['block_4_add[0][0]']         \n",
            "                                                                                                  \n",
            " block_5_expand_BN (BatchNo  (None, 6, 6, 96)             384       ['block_5_expand[0][0]']      \n",
            " rmalization)                                                                                     \n",
            "                                                                                                  \n",
            " block_5_expand_relu (ReLU)  (None, 6, 6, 96)             0         ['block_5_expand_BN[0][0]']   \n",
            "                                                                                                  \n",
            " block_5_depthwise (Depthwi  (None, 6, 6, 96)             864       ['block_5_expand_relu[0][0]'] \n",
            " seConv2D)                                                                                        \n",
            "                                                                                                  \n",
            " block_5_depthwise_BN (Batc  (None, 6, 6, 96)             384       ['block_5_depthwise[0][0]']   \n",
            " hNormalization)                                                                                  \n",
            "                                                                                                  \n",
            " block_5_depthwise_relu (Re  (None, 6, 6, 96)             0         ['block_5_depthwise_BN[0][0]']\n",
            " LU)                                                                                              \n",
            "                                                                                                  \n",
            " block_5_project (Conv2D)    (None, 6, 6, 16)             1536      ['block_5_depthwise_relu[0][0]\n",
            "                                                                    ']                            \n",
            "                                                                                                  \n",
            " block_5_project_BN (BatchN  (None, 6, 6, 16)             64        ['block_5_project[0][0]']     \n",
            " ormalization)                                                                                    \n",
            "                                                                                                  \n",
            " block_5_add (Add)           (None, 6, 6, 16)             0         ['block_4_add[0][0]',         \n",
            "                                                                     'block_5_project_BN[0][0]']  \n",
            "                                                                                                  \n",
            " block_6_expand (Conv2D)     (None, 6, 6, 96)             1536      ['block_5_add[0][0]']         \n",
            "                                                                                                  \n",
            " block_6_expand_BN (BatchNo  (None, 6, 6, 96)             384       ['block_6_expand[0][0]']      \n",
            " rmalization)                                                                                     \n",
            "                                                                                                  \n",
            " block_6_expand_relu (ReLU)  (None, 6, 6, 96)             0         ['block_6_expand_BN[0][0]']   \n",
            "                                                                                                  \n",
            " block_6_pad (ZeroPadding2D  (None, 7, 7, 96)             0         ['block_6_expand_relu[0][0]'] \n",
            " )                                                                                                \n",
            "                                                                                                  \n",
            " block_6_depthwise (Depthwi  (None, 3, 3, 96)             864       ['block_6_pad[0][0]']         \n",
            " seConv2D)                                                                                        \n",
            "                                                                                                  \n",
            " block_6_depthwise_BN (Batc  (None, 3, 3, 96)             384       ['block_6_depthwise[0][0]']   \n",
            " hNormalization)                                                                                  \n",
            "                                                                                                  \n",
            " block_6_depthwise_relu (Re  (None, 3, 3, 96)             0         ['block_6_depthwise_BN[0][0]']\n",
            " LU)                                                                                              \n",
            "                                                                                                  \n",
            " block_6_project (Conv2D)    (None, 3, 3, 24)             2304      ['block_6_depthwise_relu[0][0]\n",
            "                                                                    ']                            \n",
            "                                                                                                  \n",
            " block_6_project_BN (BatchN  (None, 3, 3, 24)             96        ['block_6_project[0][0]']     \n",
            " ormalization)                                                                                    \n",
            "                                                                                                  \n",
            " block_7_expand (Conv2D)     (None, 3, 3, 144)            3456      ['block_6_project_BN[0][0]']  \n",
            "                                                                                                  \n",
            " block_7_expand_BN (BatchNo  (None, 3, 3, 144)            576       ['block_7_expand[0][0]']      \n",
            " rmalization)                                                                                     \n",
            "                                                                                                  \n",
            " block_7_expand_relu (ReLU)  (None, 3, 3, 144)            0         ['block_7_expand_BN[0][0]']   \n",
            "                                                                                                  \n",
            " block_7_depthwise (Depthwi  (None, 3, 3, 144)            1296      ['block_7_expand_relu[0][0]'] \n",
            " seConv2D)                                                                                        \n",
            "                                                                                                  \n",
            " block_7_depthwise_BN (Batc  (None, 3, 3, 144)            576       ['block_7_depthwise[0][0]']   \n",
            " hNormalization)                                                                                  \n",
            "                                                                                                  \n",
            " block_7_depthwise_relu (Re  (None, 3, 3, 144)            0         ['block_7_depthwise_BN[0][0]']\n",
            " LU)                                                                                              \n",
            "                                                                                                  \n",
            " block_7_project (Conv2D)    (None, 3, 3, 24)             3456      ['block_7_depthwise_relu[0][0]\n",
            "                                                                    ']                            \n",
            "                                                                                                  \n",
            " block_7_project_BN (BatchN  (None, 3, 3, 24)             96        ['block_7_project[0][0]']     \n",
            " ormalization)                                                                                    \n",
            "                                                                                                  \n",
            " block_7_add (Add)           (None, 3, 3, 24)             0         ['block_6_project_BN[0][0]',  \n",
            "                                                                     'block_7_project_BN[0][0]']  \n",
            "                                                                                                  \n",
            " block_8_expand (Conv2D)     (None, 3, 3, 144)            3456      ['block_7_add[0][0]']         \n",
            "                                                                                                  \n",
            " block_8_expand_BN (BatchNo  (None, 3, 3, 144)            576       ['block_8_expand[0][0]']      \n",
            " rmalization)                                                                                     \n",
            "                                                                                                  \n",
            " block_8_expand_relu (ReLU)  (None, 3, 3, 144)            0         ['block_8_expand_BN[0][0]']   \n",
            "                                                                                                  \n",
            " block_8_depthwise (Depthwi  (None, 3, 3, 144)            1296      ['block_8_expand_relu[0][0]'] \n",
            " seConv2D)                                                                                        \n",
            "                                                                                                  \n",
            " block_8_depthwise_BN (Batc  (None, 3, 3, 144)            576       ['block_8_depthwise[0][0]']   \n",
            " hNormalization)                                                                                  \n",
            "                                                                                                  \n",
            " block_8_depthwise_relu (Re  (None, 3, 3, 144)            0         ['block_8_depthwise_BN[0][0]']\n",
            " LU)                                                                                              \n",
            "                                                                                                  \n",
            " block_8_project (Conv2D)    (None, 3, 3, 24)             3456      ['block_8_depthwise_relu[0][0]\n",
            "                                                                    ']                            \n",
            "                                                                                                  \n",
            " block_8_project_BN (BatchN  (None, 3, 3, 24)             96        ['block_8_project[0][0]']     \n",
            " ormalization)                                                                                    \n",
            "                                                                                                  \n",
            " block_8_add (Add)           (None, 3, 3, 24)             0         ['block_7_add[0][0]',         \n",
            "                                                                     'block_8_project_BN[0][0]']  \n",
            "                                                                                                  \n",
            " block_9_expand (Conv2D)     (None, 3, 3, 144)            3456      ['block_8_add[0][0]']         \n",
            "                                                                                                  \n",
            " block_9_expand_BN (BatchNo  (None, 3, 3, 144)            576       ['block_9_expand[0][0]']      \n",
            " rmalization)                                                                                     \n",
            "                                                                                                  \n",
            " block_9_expand_relu (ReLU)  (None, 3, 3, 144)            0         ['block_9_expand_BN[0][0]']   \n",
            "                                                                                                  \n",
            " block_9_depthwise (Depthwi  (None, 3, 3, 144)            1296      ['block_9_expand_relu[0][0]'] \n",
            " seConv2D)                                                                                        \n",
            "                                                                                                  \n",
            " block_9_depthwise_BN (Batc  (None, 3, 3, 144)            576       ['block_9_depthwise[0][0]']   \n",
            " hNormalization)                                                                                  \n",
            "                                                                                                  \n",
            " block_9_depthwise_relu (Re  (None, 3, 3, 144)            0         ['block_9_depthwise_BN[0][0]']\n",
            " LU)                                                                                              \n",
            "                                                                                                  \n",
            " block_9_project (Conv2D)    (None, 3, 3, 24)             3456      ['block_9_depthwise_relu[0][0]\n",
            "                                                                    ']                            \n",
            "                                                                                                  \n",
            " block_9_project_BN (BatchN  (None, 3, 3, 24)             96        ['block_9_project[0][0]']     \n",
            " ormalization)                                                                                    \n",
            "                                                                                                  \n",
            " block_9_add (Add)           (None, 3, 3, 24)             0         ['block_8_add[0][0]',         \n",
            "                                                                     'block_9_project_BN[0][0]']  \n",
            "                                                                                                  \n",
            " block_10_expand (Conv2D)    (None, 3, 3, 144)            3456      ['block_9_add[0][0]']         \n",
            "                                                                                                  \n",
            " block_10_expand_BN (BatchN  (None, 3, 3, 144)            576       ['block_10_expand[0][0]']     \n",
            " ormalization)                                                                                    \n",
            "                                                                                                  \n",
            " block_10_expand_relu (ReLU  (None, 3, 3, 144)            0         ['block_10_expand_BN[0][0]']  \n",
            " )                                                                                                \n",
            "                                                                                                  \n",
            " block_10_depthwise (Depthw  (None, 3, 3, 144)            1296      ['block_10_expand_relu[0][0]']\n",
            " iseConv2D)                                                                                       \n",
            "                                                                                                  \n",
            " block_10_depthwise_BN (Bat  (None, 3, 3, 144)            576       ['block_10_depthwise[0][0]']  \n",
            " chNormalization)                                                                                 \n",
            "                                                                                                  \n",
            " block_10_depthwise_relu (R  (None, 3, 3, 144)            0         ['block_10_depthwise_BN[0][0]'\n",
            " eLU)                                                               ]                             \n",
            "                                                                                                  \n",
            " block_10_project (Conv2D)   (None, 3, 3, 32)             4608      ['block_10_depthwise_relu[0][0\n",
            "                                                                    ]']                           \n",
            "                                                                                                  \n",
            " block_10_project_BN (Batch  (None, 3, 3, 32)             128       ['block_10_project[0][0]']    \n",
            " Normalization)                                                                                   \n",
            "                                                                                                  \n",
            " block_11_expand (Conv2D)    (None, 3, 3, 192)            6144      ['block_10_project_BN[0][0]'] \n",
            "                                                                                                  \n",
            " block_11_expand_BN (BatchN  (None, 3, 3, 192)            768       ['block_11_expand[0][0]']     \n",
            " ormalization)                                                                                    \n",
            "                                                                                                  \n",
            " block_11_expand_relu (ReLU  (None, 3, 3, 192)            0         ['block_11_expand_BN[0][0]']  \n",
            " )                                                                                                \n",
            "                                                                                                  \n",
            " block_11_depthwise (Depthw  (None, 3, 3, 192)            1728      ['block_11_expand_relu[0][0]']\n",
            " iseConv2D)                                                                                       \n",
            "                                                                                                  \n",
            " block_11_depthwise_BN (Bat  (None, 3, 3, 192)            768       ['block_11_depthwise[0][0]']  \n",
            " chNormalization)                                                                                 \n",
            "                                                                                                  \n",
            " block_11_depthwise_relu (R  (None, 3, 3, 192)            0         ['block_11_depthwise_BN[0][0]'\n",
            " eLU)                                                               ]                             \n",
            "                                                                                                  \n",
            " block_11_project (Conv2D)   (None, 3, 3, 32)             6144      ['block_11_depthwise_relu[0][0\n",
            "                                                                    ]']                           \n",
            "                                                                                                  \n",
            " block_11_project_BN (Batch  (None, 3, 3, 32)             128       ['block_11_project[0][0]']    \n",
            " Normalization)                                                                                   \n",
            "                                                                                                  \n",
            " block_11_add (Add)          (None, 3, 3, 32)             0         ['block_10_project_BN[0][0]', \n",
            "                                                                     'block_11_project_BN[0][0]'] \n",
            "                                                                                                  \n",
            " block_12_expand (Conv2D)    (None, 3, 3, 192)            6144      ['block_11_add[0][0]']        \n",
            "                                                                                                  \n",
            " block_12_expand_BN (BatchN  (None, 3, 3, 192)            768       ['block_12_expand[0][0]']     \n",
            " ormalization)                                                                                    \n",
            "                                                                                                  \n",
            " block_12_expand_relu (ReLU  (None, 3, 3, 192)            0         ['block_12_expand_BN[0][0]']  \n",
            " )                                                                                                \n",
            "                                                                                                  \n",
            " block_12_depthwise (Depthw  (None, 3, 3, 192)            1728      ['block_12_expand_relu[0][0]']\n",
            " iseConv2D)                                                                                       \n",
            "                                                                                                  \n",
            " block_12_depthwise_BN (Bat  (None, 3, 3, 192)            768       ['block_12_depthwise[0][0]']  \n",
            " chNormalization)                                                                                 \n",
            "                                                                                                  \n",
            " block_12_depthwise_relu (R  (None, 3, 3, 192)            0         ['block_12_depthwise_BN[0][0]'\n",
            " eLU)                                                               ]                             \n",
            "                                                                                                  \n",
            " block_12_project (Conv2D)   (None, 3, 3, 32)             6144      ['block_12_depthwise_relu[0][0\n",
            "                                                                    ]']                           \n",
            "                                                                                                  \n",
            " block_12_project_BN (Batch  (None, 3, 3, 32)             128       ['block_12_project[0][0]']    \n",
            " Normalization)                                                                                   \n",
            "                                                                                                  \n",
            " block_12_add (Add)          (None, 3, 3, 32)             0         ['block_11_add[0][0]',        \n",
            "                                                                     'block_12_project_BN[0][0]'] \n",
            "                                                                                                  \n",
            " block_13_expand (Conv2D)    (None, 3, 3, 192)            6144      ['block_12_add[0][0]']        \n",
            "                                                                                                  \n",
            " block_13_expand_BN (BatchN  (None, 3, 3, 192)            768       ['block_13_expand[0][0]']     \n",
            " ormalization)                                                                                    \n",
            "                                                                                                  \n",
            " block_13_expand_relu (ReLU  (None, 3, 3, 192)            0         ['block_13_expand_BN[0][0]']  \n",
            " )                                                                                                \n",
            "                                                                                                  \n",
            " block_13_pad (ZeroPadding2  (None, 5, 5, 192)            0         ['block_13_expand_relu[0][0]']\n",
            " D)                                                                                               \n",
            "                                                                                                  \n",
            " block_13_depthwise (Depthw  (None, 2, 2, 192)            1728      ['block_13_pad[0][0]']        \n",
            " iseConv2D)                                                                                       \n",
            "                                                                                                  \n",
            " block_13_depthwise_BN (Bat  (None, 2, 2, 192)            768       ['block_13_depthwise[0][0]']  \n",
            " chNormalization)                                                                                 \n",
            "                                                                                                  \n",
            " block_13_depthwise_relu (R  (None, 2, 2, 192)            0         ['block_13_depthwise_BN[0][0]'\n",
            " eLU)                                                               ]                             \n",
            "                                                                                                  \n",
            " block_13_project (Conv2D)   (None, 2, 2, 56)             10752     ['block_13_depthwise_relu[0][0\n",
            "                                                                    ]']                           \n",
            "                                                                                                  \n",
            " block_13_project_BN (Batch  (None, 2, 2, 56)             224       ['block_13_project[0][0]']    \n",
            " Normalization)                                                                                   \n",
            "                                                                                                  \n",
            " block_14_expand (Conv2D)    (None, 2, 2, 336)            18816     ['block_13_project_BN[0][0]'] \n",
            "                                                                                                  \n",
            " block_14_expand_BN (BatchN  (None, 2, 2, 336)            1344      ['block_14_expand[0][0]']     \n",
            " ormalization)                                                                                    \n",
            "                                                                                                  \n",
            " block_14_expand_relu (ReLU  (None, 2, 2, 336)            0         ['block_14_expand_BN[0][0]']  \n",
            " )                                                                                                \n",
            "                                                                                                  \n",
            " block_14_depthwise (Depthw  (None, 2, 2, 336)            3024      ['block_14_expand_relu[0][0]']\n",
            " iseConv2D)                                                                                       \n",
            "                                                                                                  \n",
            " block_14_depthwise_BN (Bat  (None, 2, 2, 336)            1344      ['block_14_depthwise[0][0]']  \n",
            " chNormalization)                                                                                 \n",
            "                                                                                                  \n",
            " block_14_depthwise_relu (R  (None, 2, 2, 336)            0         ['block_14_depthwise_BN[0][0]'\n",
            " eLU)                                                               ]                             \n",
            "                                                                                                  \n",
            " block_14_project (Conv2D)   (None, 2, 2, 56)             18816     ['block_14_depthwise_relu[0][0\n",
            "                                                                    ]']                           \n",
            "                                                                                                  \n",
            " block_14_project_BN (Batch  (None, 2, 2, 56)             224       ['block_14_project[0][0]']    \n",
            " Normalization)                                                                                   \n",
            "                                                                                                  \n",
            " block_14_add (Add)          (None, 2, 2, 56)             0         ['block_13_project_BN[0][0]', \n",
            "                                                                     'block_14_project_BN[0][0]'] \n",
            "                                                                                                  \n",
            " block_15_expand (Conv2D)    (None, 2, 2, 336)            18816     ['block_14_add[0][0]']        \n",
            "                                                                                                  \n",
            " block_15_expand_BN (BatchN  (None, 2, 2, 336)            1344      ['block_15_expand[0][0]']     \n",
            " ormalization)                                                                                    \n",
            "                                                                                                  \n",
            " block_15_expand_relu (ReLU  (None, 2, 2, 336)            0         ['block_15_expand_BN[0][0]']  \n",
            " )                                                                                                \n",
            "                                                                                                  \n",
            " block_15_depthwise (Depthw  (None, 2, 2, 336)            3024      ['block_15_expand_relu[0][0]']\n",
            " iseConv2D)                                                                                       \n",
            "                                                                                                  \n",
            " block_15_depthwise_BN (Bat  (None, 2, 2, 336)            1344      ['block_15_depthwise[0][0]']  \n",
            " chNormalization)                                                                                 \n",
            "                                                                                                  \n",
            " block_15_depthwise_relu (R  (None, 2, 2, 336)            0         ['block_15_depthwise_BN[0][0]'\n",
            " eLU)                                                               ]                             \n",
            "                                                                                                  \n",
            " block_15_project (Conv2D)   (None, 2, 2, 56)             18816     ['block_15_depthwise_relu[0][0\n",
            "                                                                    ]']                           \n",
            "                                                                                                  \n",
            " block_15_project_BN (Batch  (None, 2, 2, 56)             224       ['block_15_project[0][0]']    \n",
            " Normalization)                                                                                   \n",
            "                                                                                                  \n",
            " block_15_add (Add)          (None, 2, 2, 56)             0         ['block_14_add[0][0]',        \n",
            "                                                                     'block_15_project_BN[0][0]'] \n",
            "                                                                                                  \n",
            " block_16_expand (Conv2D)    (None, 2, 2, 336)            18816     ['block_15_add[0][0]']        \n",
            "                                                                                                  \n",
            " block_16_expand_BN (BatchN  (None, 2, 2, 336)            1344      ['block_16_expand[0][0]']     \n",
            " ormalization)                                                                                    \n",
            "                                                                                                  \n",
            " block_16_expand_relu (ReLU  (None, 2, 2, 336)            0         ['block_16_expand_BN[0][0]']  \n",
            " )                                                                                                \n",
            "                                                                                                  \n",
            " block_16_depthwise (Depthw  (None, 2, 2, 336)            3024      ['block_16_expand_relu[0][0]']\n",
            " iseConv2D)                                                                                       \n",
            "                                                                                                  \n",
            " block_16_depthwise_BN (Bat  (None, 2, 2, 336)            1344      ['block_16_depthwise[0][0]']  \n",
            " chNormalization)                                                                                 \n",
            "                                                                                                  \n",
            " block_16_depthwise_relu (R  (None, 2, 2, 336)            0         ['block_16_depthwise_BN[0][0]'\n",
            " eLU)                                                               ]                             \n",
            "                                                                                                  \n",
            " block_16_project (Conv2D)   (None, 2, 2, 112)            37632     ['block_16_depthwise_relu[0][0\n",
            "                                                                    ]']                           \n",
            "                                                                                                  \n",
            " block_16_project_BN (Batch  (None, 2, 2, 112)            448       ['block_16_project[0][0]']    \n",
            " Normalization)                                                                                   \n",
            "                                                                                                  \n",
            " Conv_1 (Conv2D)             (None, 2, 2, 1280)           143360    ['block_16_project_BN[0][0]'] \n",
            "                                                                                                  \n",
            " Conv_1_bn (BatchNormalizat  (None, 2, 2, 1280)           5120      ['Conv_1[0][0]']              \n",
            " ion)                                                                                             \n",
            "                                                                                                  \n",
            " out_relu (ReLU)             (None, 2, 2, 1280)           0         ['Conv_1_bn[0][0]']           \n",
            "                                                                                                  \n",
            " global_average_pooling2d (  (None, 1280)                 0         ['out_relu[0][0]']            \n",
            " GlobalAveragePooling2D)                                                                          \n",
            "                                                                                                  \n",
            " dropout (Dropout)           (None, 1280)                 0         ['global_average_pooling2d[0][\n",
            "                                                                    0]']                          \n",
            "                                                                                                  \n",
            " dense (Dense)               (None, 3)                    3843      ['dropout[0][0]']             \n",
            "                                                                                                  \n",
            "==================================================================================================\n",
            "Total params: 414051 (1.58 MB)\n",
            "Trainable params: 3843 (15.01 KB)\n",
            "Non-trainable params: 410208 (1.56 MB)\n",
            "__________________________________________________________________________________________________\n"
          ]
        }
      ]
    },
    {
      "cell_type": "markdown",
      "source": [
        "### Train the model with 10 epochs"
      ],
      "metadata": {
        "id": "25W5CUAVj_I9"
      }
    },
    {
      "cell_type": "code",
      "metadata": {
        "id": "na0GBGTQkavr"
      },
      "source": [
        "model.fit(\n",
        "  train_ds,\n",
        "  validation_data=val_ds,\n",
        "  epochs=10\n",
        ")"
      ],
      "execution_count": null,
      "outputs": []
    },
    {
      "cell_type": "markdown",
      "source": [
        "### Save the TensorFlow model"
      ],
      "metadata": {
        "id": "U0tsAdGikFa_"
      }
    },
    {
      "cell_type": "code",
      "metadata": {
        "id": "rOUI3vtLtYKh"
      },
      "source": [
        "model.save(TF_MODEL)"
      ],
      "execution_count": null,
      "outputs": []
    },
    {
      "cell_type": "markdown",
      "metadata": {
        "id": "KntdZZ5ruM7Z"
      },
      "source": [
        "## Quantizing and testing the trained model with TensorFlow Lite"
      ]
    },
    {
      "cell_type": "markdown",
      "source": [
        "### Acquire new images for the test dataset"
      ],
      "metadata": {
        "id": "srHkdaf_kk97"
      }
    },
    {
      "cell_type": "code",
      "source": [
        "# CHANGE TO DESIRED TEST DATASET FOLDER\n",
        "test_dir = \"drive/MyDrive/test\""
      ],
      "metadata": {
        "id": "ZxnVbqxkkspY"
      },
      "execution_count": null,
      "outputs": []
    },
    {
      "cell_type": "markdown",
      "source": [
        "### Rescale the pixel values from [0, 255] to [-1, 1]"
      ],
      "metadata": {
        "id": "jzTiU6qQk_Bv"
      }
    },
    {
      "cell_type": "code",
      "source": [
        "test_ds = tf.keras.utils.image_dataset_from_directory(test_dir,\n",
        "                                                      interpolation=\"bilinear\",\n",
        "                                                      image_size=(MODEL_INPUT_WIDTH, MODEL_INPUT_HEIGHT))\n",
        "test_ds  = test_ds.map(lambda x, y: (rescale(x), y))"
      ],
      "metadata": {
        "id": "vYHpua21lGXp"
      },
      "execution_count": null,
      "outputs": []
    },
    {
      "cell_type": "markdown",
      "source": [
        "### Quantize the TensorFlow model with the TensorFlow Lite converter"
      ],
      "metadata": {
        "id": "riqPFiWllkdg"
      }
    },
    {
      "cell_type": "code",
      "metadata": {
        "id": "ALWbwZKBuNl8"
      },
      "source": [
        "repr_ds = test_ds.unbatch()\n",
        "\n",
        "def representative_data_gen():\n",
        "  for i_value, o_value in repr_ds.batch(1).take(48):\n",
        "    yield [i_value]\n",
        "\n",
        "converter = tf.lite.TFLiteConverter.from_saved_model(TF_MODEL)\n",
        "converter.representative_dataset = tf.lite.RepresentativeDataset(representative_data_gen)\n",
        "converter.optimizations = [tf.lite.Optimize.DEFAULT]\n",
        "converter.target_spec.supported_ops = [tf.lite.OpsSet.TFLITE_BUILTINS_INT8]\n",
        "converter.inference_input_type = tf.int8\n",
        "\n",
        "tfl_model = converter.convert()"
      ],
      "execution_count": null,
      "outputs": []
    },
    {
      "cell_type": "markdown",
      "source": [
        "### Initialize the TensorFlow Lite interpreter"
      ],
      "metadata": {
        "id": "1Br6hq8Cl4nU"
      }
    },
    {
      "cell_type": "code",
      "metadata": {
        "id": "ACsaQjxzP2Wd"
      },
      "source": [
        "# Initialize the TFLite interpreter\n",
        "interp = tf.lite.Interpreter(model_content=tfl_model)"
      ],
      "execution_count": null,
      "outputs": []
    },
    {
      "cell_type": "markdown",
      "source": [
        "### Allocate the tensor and get input quantization parameters"
      ],
      "metadata": {
        "id": "OxxhFk-7l9J2"
      }
    },
    {
      "cell_type": "code",
      "source": [
        "# Allocate the tensors\n",
        "interp.allocate_tensors()\n",
        "\n",
        "# Get input/output layer information\n",
        "i_details = interp.get_input_details()[0]\n",
        "o_details = interp.get_output_details()[0]\n",
        "\n",
        "# Get input quantization parameters.\n",
        "i_quant = i_details[\"quantization_parameters\"]\n",
        "i_scale      = i_quant['scales'][0]\n",
        "i_zero_point = i_quant['zero_points'][0]"
      ],
      "metadata": {
        "id": "nrH3uM8Gl_Hg"
      },
      "execution_count": null,
      "outputs": []
    },
    {
      "cell_type": "markdown",
      "source": [
        "### Evaluate the accuracy of the quantized TensorFlow Lite model"
      ],
      "metadata": {
        "id": "WQcFhKfumT1B"
      }
    },
    {
      "cell_type": "code",
      "source": [
        "test_ds0 = test_ds.unbatch()\n",
        "\n",
        "num_correct_samples = 0\n",
        "num_samples   = len(list(test_ds0.batch(1)))\n",
        "\n",
        "for i_value, o_value in test_ds0.batch(1):\n",
        "  i_value = (i_value / i_scale) + i_zero_point\n",
        "  i_value = tf.cast(i_value, dtype=tf.int8)\n",
        "  interp.set_tensor(i_details[\"index\"], i_value)\n",
        "  interp.invoke()\n",
        "  o_pred = interp.get_tensor(o_details[\"index\"])[0]\n",
        "\n",
        "  if np.argmax(o_pred) == o_value:\n",
        "    num_correct_samples += 1\n",
        "\n",
        "print(\"Accuracy:\", num_correct_samples/num_samples)"
      ],
      "metadata": {
        "id": "1vlIBfMHmWT-"
      },
      "execution_count": null,
      "outputs": []
    },
    {
      "cell_type": "markdown",
      "source": [
        "### Convert the TensorFlow model to C-byte array with xxd"
      ],
      "metadata": {
        "id": "tM-ZaNUHmkBm"
      }
    },
    {
      "cell_type": "code",
      "source": [
        "open(TFL_MODEL_FILE, \"wb\").write(tfl_model)"
      ],
      "metadata": {
        "id": "U2OVeMZPD97C"
      },
      "execution_count": null,
      "outputs": []
    },
    {
      "cell_type": "code",
      "metadata": {
        "id": "3kAnQgmI0QK_"
      },
      "source": [
        "!apt-get update && apt-get -qq install xxd\n",
        "!xxd -c 60 -i $TFL_MODEL_FILE > $TFL_MODEL_HEADER_FILE\n",
        "!sed -i 's/unsigned char/const unsigned char/g' $TFL_MODEL_HEADER_FILE\n",
        "!sed -i 's/const/alignas(8) const/g' $TFL_MODEL_HEADER_FILE"
      ],
      "execution_count": null,
      "outputs": []
    },
    {
      "cell_type": "markdown",
      "source": [
        "### Get the TensorFlow model size in bytes to estimate the program memory usage"
      ],
      "metadata": {
        "id": "nQg4FbwzluB8"
      }
    },
    {
      "cell_type": "code",
      "source": [
        "size_tfl_model = len(tfl_model)\n",
        "print(len(tfl_model), \"bytes\")"
      ],
      "metadata": {
        "id": "IFIpV1uUlxiZ"
      },
      "execution_count": null,
      "outputs": []
    }
  ]
}