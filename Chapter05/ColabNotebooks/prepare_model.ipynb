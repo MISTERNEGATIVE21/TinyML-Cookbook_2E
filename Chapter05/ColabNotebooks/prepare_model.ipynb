{
  "cells": [
    {
      "cell_type": "markdown",
      "metadata": {
        "id": "AsZpsRh2hoOn"
      },
      "source": [
        "# Chapter 5 - Recognizing music genres with TensorFlow and the Raspberry Pi Pico\n",
        "## Part 1: Data collection and MFCCs computation"
      ]
    },
    {
      "cell_type": "markdown",
      "metadata": {
        "id": "dnwIrmZKh2AZ"
      },
      "source": [
        "## Python libraries"
      ]
    },
    {
      "cell_type": "code",
      "source": [
        "!pip install numpy==1.23.5\n",
        "!pip install cmsisdsp==1.9.6"
      ],
      "metadata": {
        "id": "uP22fn8eQvA1"
      },
      "execution_count": null,
      "outputs": []
    },
    {
      "cell_type": "markdown",
      "source": [
        "## Import libraries"
      ],
      "metadata": {
        "id": "paHVNjoLGMHl"
      }
    },
    {
      "cell_type": "code",
      "source": [
        "import soundfile as sf\n",
        "import librosa\n",
        "import numpy as np\n",
        "import tensorflow as tf\n",
        "import cmsisdsp as dsp\n",
        "import math\n",
        "\n",
        "from google.colab import drive"
      ],
      "metadata": {
        "id": "nM7JEWpcGPOW"
      },
      "execution_count": null,
      "outputs": []
    },
    {
      "cell_type": "markdown",
      "metadata": {
        "id": "by8Rk4ush56O"
      },
      "source": [
        "## Constants"
      ]
    },
    {
      "cell_type": "code",
      "execution_count": null,
      "metadata": {
        "id": "TUzrdzCUM0Ga"
      },
      "outputs": [],
      "source": [
        "# Google drive top-level directory\n",
        "G_DRIVE_ROOT = '/content/drive/'\n",
        "\n",
        "# Audio sample rate\n",
        "SAMPLE_RATE = 22050\n",
        "\n",
        "# MFFC constants\n",
        "FRAME_LENGTH = 2048\n",
        "FRAME_STEP = 1024\n",
        "FFT_LENGTH = 2048\n",
        "FMIN_HZ = 20\n",
        "FMAX_HZ = SAMPLE_RATE / 2\n",
        "NUM_MEL_FREQS = 40\n",
        "NUM_MFCCS = 18"
      ]
    },
    {
      "cell_type": "markdown",
      "metadata": {
        "id": "aIJQJQB_jd7j"
      },
      "source": [
        "## Extracting MFCCs from audio samples with TensorFlow\n"
      ]
    },
    {
      "cell_type": "markdown",
      "metadata": {
        "id": "uB79lTAvioX7"
      },
      "source": [
        "### Implement a function to compute MFCCs with the TensorFlow signal processing functions"
      ]
    },
    {
      "cell_type": "code",
      "execution_count": null,
      "metadata": {
        "id": "S59awBIzMXdY"
      },
      "outputs": [],
      "source": [
        "def extract_mfccs_tf(\n",
        "  ad_src,\n",
        "  ad_sample_rate,\n",
        "  num_mfccs,\n",
        "  frame_length,\n",
        "  frame_step,\n",
        "  fft_length,\n",
        "  fmin_hz,\n",
        "  fmax_hz,\n",
        "  num_mel_freqs):\n",
        "\n",
        "  n = ad_src.shape[0]\n",
        "  num_frames = int(((n - frame_length) / frame_step) + 1)\n",
        "\n",
        "  output = np.zeros(shape=(num_frames, num_mfccs))\n",
        "\n",
        "  # Iterate over each frame to get the MFCC coefficients\n",
        "  for i in range(num_frames):\n",
        "    idx_s = i * frame_step\n",
        "    idx_e = idx_s + frame_length\n",
        "    src = ad_src[idx_s:idx_e]\n",
        "\n",
        "    # Apply the Hann Window in-place\n",
        "    hann_coef = tf.signal.hann_window(frame_length)\n",
        "    hann = src * hann_coef\n",
        "\n",
        "    # Apply the RFFT\n",
        "    fft_spect = tf.signal.rfft(hann)\n",
        "\n",
        "    # Calculate the magnitude of the FFT\n",
        "    fft_mag_spect = tf.math.abs(fft_spect)\n",
        "\n",
        "    # Calculate the Mel-spectrogram\n",
        "    num_fft_freqs = fft_mag_spect.shape[0]\n",
        "    mel_wei_mtx = tf.signal.linear_to_mel_weight_matrix(\n",
        "      num_mel_freqs,\n",
        "      num_fft_freqs,\n",
        "      ad_sample_rate,\n",
        "      fmin_hz,\n",
        "      fmax_hz)\n",
        "\n",
        "    # Calculate the Mel-spectrogram\n",
        "    mel_spect = np.matmul(fft_mag_spect, mel_wei_mtx)\n",
        "\n",
        "    # Calculate the Log-Mel-spectrogram\n",
        "    log_mel_spect = np.log(mel_spect + 1e-6)\n",
        "\n",
        "    dct = tf.signal.mfccs_from_log_mel_spectrograms(\n",
        "    log_mel_spect)\n",
        "\n",
        "    # Extract the MFFC coefficients\n",
        "    output[i] = dct[0:num_mfccs]\n",
        "\n",
        "  return output"
      ]
    },
    {
      "cell_type": "markdown",
      "metadata": {
        "id": "XI-HuxGGLqzi"
      },
      "source": [
        "### Mount top-level Google Drive"
      ]
    },
    {
      "cell_type": "code",
      "execution_count": null,
      "metadata": {
        "id": "RTppFu0PFnVU"
      },
      "outputs": [],
      "source": [
        "drive.mount(G_DRIVE_ROOT)"
      ]
    },
    {
      "cell_type": "code",
      "source": [
        "train_dir = \"drive/MyDrive/mgr_dataset\""
      ],
      "metadata": {
        "id": "GLVyxF1QQ1r5"
      },
      "execution_count": null,
      "outputs": []
    },
    {
      "cell_type": "markdown",
      "metadata": {
        "id": "FkyPFrzagIqO"
      },
      "source": [
        "### Load an audio file"
      ]
    },
    {
      "cell_type": "code",
      "execution_count": null,
      "metadata": {
        "id": "cvO1xMrmgO-s"
      },
      "outputs": [],
      "source": [
        "filepath = train_dir + \"/disco/disco.00002.wav\"\n",
        "ad, sr = sf.read(filepath)\n",
        "\n",
        "print('Sample rate:', sr)\n",
        "print('Sample shape:', ad.shape)\n",
        "print('Song duration:', ad.shape[0] / sr)"
      ]
    },
    {
      "cell_type": "markdown",
      "metadata": {
        "id": "Tf1sXqFwIf_N"
      },
      "source": [
        "### Play one-second of audio"
      ]
    },
    {
      "cell_type": "code",
      "execution_count": null,
      "metadata": {
        "id": "FKX4zcbkIVUb"
      },
      "outputs": [],
      "source": [
        "# Take one second of audio\n",
        "test_ad = ad[0:SAMPLE_RATE]\n",
        "\n",
        "import IPython.display as ipd\n",
        "ipd.Audio(test_ad, rate=sr)"
      ]
    },
    {
      "cell_type": "markdown",
      "metadata": {
        "id": "n4GH_0SQmpda"
      },
      "source": [
        "### Extract the MFCCs using TensorFlow"
      ]
    },
    {
      "cell_type": "code",
      "execution_count": null,
      "metadata": {
        "id": "V6Ovv5p7mwnz"
      },
      "outputs": [],
      "source": [
        "mfccs_tf = extract_mfccs_tf(\n",
        "    test_ad,\n",
        "    SAMPLE_RATE,\n",
        "    NUM_MFCCS,\n",
        "    FRAME_LENGTH,\n",
        "    FRAME_STEP,\n",
        "    FFT_LENGTH,\n",
        "    FMIN_HZ,\n",
        "    FMAX_HZ,\n",
        "    NUM_MEL_FREQS)"
      ]
    },
    {
      "cell_type": "markdown",
      "source": [
        "### Implement a function to visualize the MFCCs as image"
      ],
      "metadata": {
        "id": "yM9aazx4TfYu"
      }
    },
    {
      "cell_type": "code",
      "source": [
        "import matplotlib.pyplot as plt\n",
        "from matplotlib import cm\n",
        "\n",
        "def display_mfccs(mfcc_src):\n",
        "  fig, ax = plt.subplots()\n",
        "  cax = ax.imshow(mfcc_src, interpolation='nearest', cmap=cm.gray, origin='lower')\n",
        "  ax.set_title('MFCCs')\n",
        "  plt.xlabel('Frame index - Time')\n",
        "  plt.ylabel('Coefficient index - Frequency')\n",
        "  plt.colorbar(cax)\n",
        "  plt.savefig('filename.png', dpi=800)\n",
        "  plt.show()"
      ],
      "metadata": {
        "id": "paIF7YWzTma-"
      },
      "execution_count": null,
      "outputs": []
    },
    {
      "cell_type": "markdown",
      "source": [
        "### Display the MFCCs"
      ],
      "metadata": {
        "id": "0wZbC_yBTqWl"
      }
    },
    {
      "cell_type": "code",
      "source": [
        "display_mfccs(mfccs_tf.T)"
      ],
      "metadata": {
        "id": "pgMjqrKZTel0"
      },
      "execution_count": null,
      "outputs": []
    },
    {
      "cell_type": "markdown",
      "metadata": {
        "id": "Nay9ctlUclc8"
      },
      "source": [
        "### Implement a function to compute MFCCs algorithm with the Librosa library"
      ]
    },
    {
      "cell_type": "code",
      "execution_count": null,
      "metadata": {
        "id": "pABiatQEY5cB"
      },
      "outputs": [],
      "source": [
        "def extract_mfccs_librosa(\n",
        "  ad_src,\n",
        "  ad_sample_rate,\n",
        "  num_mfccs,\n",
        "  frame_length,\n",
        "  frame_step,\n",
        "  fft_length,\n",
        "  fmin_hz,\n",
        "  fmax_hz,\n",
        "  num_mel_freqs):\n",
        "\n",
        "  return librosa.feature.mfcc(\n",
        "      y=ad_src,\n",
        "      sr=ad_sample_rate,\n",
        "      n_mfcc = num_mfccs,\n",
        "      n_fft = fft_length,\n",
        "      hop_length = frame_step,\n",
        "      win_length = frame_length,\n",
        "      center = False,\n",
        "      n_mels = num_mel_freqs,\n",
        "      fmin = fmin_hz,\n",
        "      fmax = fmax_hz)"
      ]
    },
    {
      "cell_type": "markdown",
      "source": [
        "### Extract the MFCCs using the Librosa library\n"
      ],
      "metadata": {
        "id": "aG3QKBM8xQik"
      }
    },
    {
      "cell_type": "code",
      "execution_count": null,
      "metadata": {
        "id": "Iausy829cnV0"
      },
      "outputs": [],
      "source": [
        "mfccs_librosa = extract_mfccs_librosa(\n",
        "    test_ad,\n",
        "    SAMPLE_RATE,\n",
        "    NUM_MFCCS,\n",
        "    FRAME_LENGTH,\n",
        "    FRAME_STEP,\n",
        "    FFT_LENGTH,\n",
        "    FMIN_HZ,\n",
        "    FMAX_HZ,\n",
        "    NUM_MEL_FREQS)"
      ]
    },
    {
      "cell_type": "markdown",
      "source": [
        "### Display the MFCCs"
      ],
      "metadata": {
        "id": "OLDKNAxMcrPk"
      }
    },
    {
      "cell_type": "code",
      "source": [
        "display_mfccs(mfccs_librosa)"
      ],
      "metadata": {
        "id": "4DzK7XXZcrq1"
      },
      "execution_count": null,
      "outputs": []
    },
    {
      "cell_type": "markdown",
      "source": [
        "## Part 2: Model deployment"
      ],
      "metadata": {
        "id": "FEO0gApqSWZk"
      }
    },
    {
      "cell_type": "markdown",
      "source": [
        "## Constants"
      ],
      "metadata": {
        "id": "rIrejKeQSb-5"
      }
    },
    {
      "cell_type": "code",
      "source": [
        "# Music genres\n",
        "LIST_GENRES = ['disco', 'jazz', 'metal']\n",
        "\n",
        "# Training audio length in seconds\n",
        "TRAIN_AUDIO_LENGTH_SEC = 1\n",
        "\n",
        "# Training audio length in number of samples\n",
        "TRAIN_AUDIO_LENGTH_SAMPLES = SAMPLE_RATE * TRAIN_AUDIO_LENGTH_SEC\n",
        "\n",
        "# TensorFlow model name\n",
        "TF_MODEL = 'music_genre'\n",
        "\n",
        "# TensorFlow lite model name\n",
        "TFL_MODEL_FILE = TF_MODEL + '_int8' + '.tflite'"
      ],
      "metadata": {
        "id": "GpJgpEbXSbHb"
      },
      "execution_count": null,
      "outputs": []
    },
    {
      "cell_type": "markdown",
      "metadata": {
        "id": "WZlNB5weXJFT"
      },
      "source": [
        "## Computing the FFT magnitude with fixed-point arithmetic through the CMSIS-DSP Python library"
      ]
    },
    {
      "cell_type": "markdown",
      "metadata": {
        "id": "3X6cPdd6AcyY"
      },
      "source": [
        "### Implement a function that computes the RFFT in Q15 fixed-point using CMSIS-DSP."
      ]
    },
    {
      "cell_type": "code",
      "execution_count": null,
      "metadata": {
        "id": "DHMrdRx8AqIA"
      },
      "outputs": [],
      "source": [
        "def rfft_q15(src):\n",
        "  src_len = src.shape[0]\n",
        "  inst = dsp.arm_rfft_instance_q15()\n",
        "  stat = dsp.arm_rfft_init_q15(inst, src_len, 0, 1)\n",
        "  fft_q = dsp.arm_rfft_q15(inst, src)\n",
        "  return fft_q[:src_len + 1]"
      ]
    },
    {
      "cell_type": "markdown",
      "metadata": {
        "id": "dUqPPFdZA2_3"
      },
      "source": [
        "### Implement a function that computes the magnitude in Q15 fixed-point using CMSIS-DSP"
      ]
    },
    {
      "cell_type": "code",
      "execution_count": null,
      "metadata": {
        "id": "WgZb7GvxA8uP"
      },
      "outputs": [],
      "source": [
        "def mag_q15(src):\n",
        "  f0 = src[0],\n",
        "  fn = src[1],\n",
        "  fx = dsp.arm_cmplx_mag_q15(src[2:])\n",
        "  return np.concatenate((f0, fx, fn))"
      ]
    },
    {
      "cell_type": "markdown",
      "metadata": {
        "id": "JI3vxk91YC5o"
      },
      "source": [
        "### Get a frame from the test audio sample"
      ]
    },
    {
      "cell_type": "code",
      "execution_count": null,
      "metadata": {
        "id": "6wiLtuczYIcL"
      },
      "outputs": [],
      "source": [
        "src = test_ad[0:FRAME_LENGTH]"
      ]
    },
    {
      "cell_type": "markdown",
      "metadata": {
        "id": "bY-e--RvYjGx"
      },
      "source": [
        "### Compute the FFT magnitude using the 16-bit fixed-point arithmetic"
      ]
    },
    {
      "cell_type": "code",
      "execution_count": null,
      "metadata": {
        "id": "aMDU2KMWYmsB"
      },
      "outputs": [],
      "source": [
        "# Convert to Q15\n",
        "src_q15 = dsp.arm_float_to_q15(src)\n",
        "\n",
        "# Apply the RFFT. The output is Q12.4. Therefore, fewer fractional bits\n",
        "cmsis_fft_q15 = rfft_q15(src_q15)\n",
        "\n",
        "# Calculate the magnitude of the FFT. The output is Q13.3\n",
        "cmsis_fft_mag_q15 = mag_q15(cmsis_fft_q15)\n",
        "\n",
        "# Convert to float\n",
        "scale = float(1 << 3) # 8\n",
        "\n",
        "cmsis_fft_mag = cmsis_fft_mag_q15 / scale"
      ]
    },
    {
      "cell_type": "markdown",
      "metadata": {
        "id": "roWGbcW8f7iH"
      },
      "source": [
        "### Compute the FFT magnitude using the floating-point arithmetic"
      ]
    },
    {
      "cell_type": "code",
      "execution_count": null,
      "metadata": {
        "id": "T3o6dAwcgETG"
      },
      "outputs": [],
      "source": [
        "tf_fft = tf.signal.rfft(src)\n",
        "tf_fft_mag = tf.math.abs(tf_fft)"
      ]
    },
    {
      "cell_type": "markdown",
      "metadata": {
        "id": "PRwtGU1udWmi"
      },
      "source": [
        "### Evaluate the difference stats"
      ]
    },
    {
      "cell_type": "code",
      "execution_count": null,
      "metadata": {
        "id": "oJx1nXEvdYy0"
      },
      "outputs": [],
      "source": [
        "abs_diff = np.abs(tf_fft_mag - cmsis_fft_mag)\n",
        "print(\"Differences:\\nmin:\", np.min(abs_diff),\n",
        "      \"max:\", np.max(abs_diff),\n",
        "      \"mean:\", np.mean(abs_diff),\n",
        "      \"std:\", np.std(abs_diff))"
      ]
    },
    {
      "cell_type": "markdown",
      "metadata": {
        "id": "U-KOLjdpeHlM"
      },
      "source": [
        "## Implementing the MFCCs feature extraction with the CMSIS-DSP library\n"
      ]
    },
    {
      "cell_type": "markdown",
      "metadata": {
        "id": "EB4wALJi9rO0"
      },
      "source": [
        "### Implement a function to precompute the Hann window coefficients in Q15 format"
      ]
    },
    {
      "cell_type": "code",
      "execution_count": null,
      "metadata": {
        "id": "khPAmUpy9622"
      },
      "outputs": [],
      "source": [
        "def gen_hann_lut_q15(frame_len):\n",
        "  hann_lut_f32 = tf.signal.hann_window(frame_len)\n",
        "  return dsp.arm_float_to_q15(hann_lut_f32)"
      ]
    },
    {
      "cell_type": "markdown",
      "metadata": {
        "id": "HG_UMlu7B9X6"
      },
      "source": [
        "### Implement a function to precompute the Mel-weight matrix in Q15 format"
      ]
    },
    {
      "cell_type": "code",
      "execution_count": null,
      "metadata": {
        "id": "mZYPQ8HiCUmv"
      },
      "outputs": [],
      "source": [
        "def gen_mel_weight_mtx(sr, fmin_hz, fmax_hz, num_mel_freqs, num_fft_freqs):\n",
        "  m_f32 = tf.signal.linear_to_mel_weight_matrix(\n",
        "    num_mel_freqs,\n",
        "    num_fft_freqs,\n",
        "    sr,\n",
        "    fmin_hz,\n",
        "    fmax_hz)\n",
        "\n",
        "  m_q15 = dsp.arm_float_to_q15(m_f32)\n",
        "  # Reshape is needed because the conversion from float to q15 collapses the dimensions\n",
        "  return m_q15.reshape((m_f32.shape[0], m_f32.shape[1]))"
      ]
    },
    {
      "cell_type": "markdown",
      "metadata": {
        "id": "PbWLr0McMmHf"
      },
      "source": [
        "### Implement a function to precompute the logarithmic function with input as 16-bit fixed-point"
      ]
    },
    {
      "cell_type": "code",
      "execution_count": null,
      "metadata": {
        "id": "pI12qcSVM7sD"
      },
      "outputs": [],
      "source": [
        "def gen_log_lut_q(q_scale):\n",
        "  max_int16 = np.iinfo(\"int16\").max\n",
        "\n",
        "  log_lut = np.zeros(shape=(max_int16), dtype=\"int16\")\n",
        "\n",
        "  for i16 in range(0, max_int16):\n",
        "    q16 = np.array([i16,], dtype=\"int16\")\n",
        "    f_v = q16 / float(q_scale)\n",
        "    log_f = np.array(np.log(f_v + 1e-6),)\n",
        "    log_q = log_f * float(q_scale)\n",
        "    log_lut[i16] = int(log_q)\n",
        "\n",
        "  return log_lut"
      ]
    },
    {
      "cell_type": "markdown",
      "metadata": {
        "id": "PHrF-ZxXIGg3"
      },
      "source": [
        "### Implement a function to precompute the DCT-weight matrix in Q15 format"
      ]
    },
    {
      "cell_type": "code",
      "execution_count": null,
      "metadata": {
        "id": "huGSTwjaINil"
      },
      "outputs": [],
      "source": [
        "def gen_dct_weight_mtx(num_mel_freqs, num_mfccs):\n",
        "  mtx_q15 = np.zeros(shape=(num_mel_freqs, num_mfccs), dtype=\"int16\")\n",
        "\n",
        "  scale = np.sqrt(2.0 / float(num_mel_freqs))\n",
        "  pi_div_mel = (math.pi / num_mel_freqs)\n",
        "  for n in range(num_mel_freqs):\n",
        "    for k in range(num_mfccs):\n",
        "      v = scale * np.cos(pi_div_mel * (n + 0.5) * k)\n",
        "      v_f32 = np.array([v,], dtype=\"float32\")\n",
        "      mtx_q15[n][k] = dsp.arm_float_to_q15(v_f32)\n",
        "  return mtx_q15"
      ]
    },
    {
      "cell_type": "markdown",
      "metadata": {
        "id": "l-onHdSaPpJ9"
      },
      "source": [
        "### Precompute the Hann window coefficients, Mel-weight matrix, DCT-weight matrix, and logarithmic function"
      ]
    },
    {
      "cell_type": "code",
      "execution_count": null,
      "metadata": {
        "id": "zOnTuJR6CPLX"
      },
      "outputs": [],
      "source": [
        "# Generate the Hann Window LUT for Q15\n",
        "hann_lut_q15 = gen_hann_lut_q15(FRAME_LENGTH)\n",
        "\n",
        "# Precalculate the Mel-weight matrix in Q15 fixed-point format\n",
        "mel_wei_mtx_q15 = gen_mel_weight_mtx(SAMPLE_RATE, FMIN_HZ, FMAX_HZ, NUM_MEL_FREQS, int((FFT_LENGTH / 2) + 1))\n",
        "\n",
        "# Generate the Log LUT for Q13.3 fixed-point format\n",
        "log_lut_q13_3 = gen_log_lut_q(8)\n",
        "\n",
        "# Precalculate the DCT-II-weight matrix\n",
        "dct_wei_mtx_q15 = gen_dct_weight_mtx(NUM_MEL_FREQS, NUM_MFCCS)"
      ]
    },
    {
      "cell_type": "markdown",
      "metadata": {
        "id": "k8sa-S34hiuM"
      },
      "source": [
        "### Show the program memory usage"
      ]
    },
    {
      "cell_type": "code",
      "execution_count": null,
      "metadata": {
        "id": "hfm8GO7khki9"
      },
      "outputs": [],
      "source": [
        "mem_usage = 0\n",
        "mem_usage += np.size(hann_lut_q15) * 2\n",
        "mem_usage += np.size(mel_wei_mtx_q15) * 2\n",
        "mem_usage += np.size(log_lut_q13_3) * 2\n",
        "mem_usage += np.size(dct_wei_mtx_q15) * 2\n",
        "\n",
        "print(\"Program memory usage: \", mem_usage, \"bytes\")"
      ]
    },
    {
      "cell_type": "markdown",
      "source": [
        "### Implement a function to compute the MFCCs feature extraction with 16-bit fixed-point arithmetic"
      ],
      "metadata": {
        "id": "CNSR5Zz6FCvz"
      }
    },
    {
      "cell_type": "code",
      "execution_count": null,
      "metadata": {
        "id": "7h6Sn8GfKKzE"
      },
      "outputs": [],
      "source": [
        "def extract_mfccs_cmsis(\n",
        "  ad_src,\n",
        "  num_mfccs,\n",
        "  frame_length,\n",
        "  frame_step,\n",
        "  hann_lut_q15,\n",
        "  mel_wei_mtx_q15,\n",
        "  log_lut_q13_3,\n",
        "  dct_wei_mtx_q15):\n",
        "\n",
        "  n = ad_src.shape[0]\n",
        "  num_frames = int(((n - frame_length) / frame_step) + 1)\n",
        "\n",
        "  output = np.zeros(shape=(num_frames, num_mfccs))\n",
        "\n",
        "  # Iterate over each frame to get the MFCC coefficients\n",
        "  for i in range(num_frames):\n",
        "    idx_s = i * frame_step\n",
        "    idx_e = idx_s + frame_length\n",
        "    frame = ad_src[idx_s:idx_e]\n",
        "\n",
        "    # Convert to Q15\n",
        "    frame_q15 = dsp.arm_float_to_q15(frame)\n",
        "\n",
        "    # Apply the Hann Window. The output is still Q15\n",
        "    hann_q15 = dsp.arm_mult_q15(frame_q15, hann_lut_q15)\n",
        "\n",
        "    # Apply the RFFT. The output is Q12.4. Therefore, fewer fractional bits\n",
        "    fft_spect_q15 = rfft_q15(hann_q15)\n",
        "\n",
        "    # Calculate the magnitude of the FFT. The output is Q13.3\n",
        "    fft_mag_spect_q15 = mag_q15(fft_spect_q15)\n",
        "\n",
        "    # Calculate the Mel-spectrogram\n",
        "    log_mel_spect_q15 = dsp.arm_mat_vec_mult_q15(mel_wei_mtx_q15.T, fft_mag_spect_q15.T)\n",
        "\n",
        "    # Calculate the Log-Mel-spectrogram\n",
        "    for idx, v in enumerate(log_mel_spect_q15):\n",
        "      log_mel_spect_q15[idx] = log_lut_q13_3[v]\n",
        "\n",
        "    # Calculate the MFCCs through the DCT\n",
        "    mfccs = dsp.arm_mat_vec_mult_q15(dct_wei_mtx_q15.T, log_mel_spect_q15)\n",
        "\n",
        "    # Convert MFCCs to float\n",
        "    output[i] = mfccs.T / float(8)\n",
        "\n",
        "  return output"
      ]
    },
    {
      "cell_type": "markdown",
      "metadata": {
        "id": "oUowbVdwQsoq"
      },
      "source": [
        "### Extract the MFCC coefficients using the CMSIS-DSP implementation"
      ]
    },
    {
      "cell_type": "code",
      "execution_count": null,
      "metadata": {
        "id": "BpFFbCBfQxtV"
      },
      "outputs": [],
      "source": [
        "mfccs_cmsis = extract_mfccs_cmsis(\n",
        "    test_ad,\n",
        "    NUM_MFCCS,\n",
        "    FRAME_LENGTH,\n",
        "    FRAME_STEP,\n",
        "    hann_lut_q15,\n",
        "    mel_wei_mtx_q15,\n",
        "    log_lut_q13_3,\n",
        "    dct_wei_mtx_q15)"
      ]
    },
    {
      "cell_type": "markdown",
      "source": [
        "### Display MFCCs obtained with the CMSIS-DSP library"
      ],
      "metadata": {
        "id": "t-97MyarntOE"
      }
    },
    {
      "cell_type": "code",
      "source": [
        "display_mfccs(mfccs_cmsis.T)"
      ],
      "metadata": {
        "id": "lcRqC86snvdv"
      },
      "execution_count": null,
      "outputs": []
    },
    {
      "cell_type": "markdown",
      "source": [
        "### Display the difference"
      ],
      "metadata": {
        "id": "YhicIwBKA2_x"
      }
    },
    {
      "cell_type": "code",
      "source": [
        "abs_diff = np.abs(mfccs_tf - mfccs_cmsis)\n",
        "\n",
        "display_mfccs(abs_diff.T)\n",
        "\n",
        "print(\"Differences:\\nmin:\", np.min(abs_diff),\n",
        "      \"max:\", np.max(abs_diff),\n",
        "      \"mean:\", np.mean(abs_diff),\n",
        "      \"std:\", np.std(abs_diff))"
      ],
      "metadata": {
        "id": "boRTJuF1A4q8"
      },
      "execution_count": null,
      "outputs": []
    }
  ],
  "metadata": {
    "colab": {
      "provenance": []
    },
    "kernelspec": {
      "display_name": "Python 3",
      "name": "python3"
    },
    "language_info": {
      "name": "python"
    }
  },
  "nbformat": 4,
  "nbformat_minor": 0
}