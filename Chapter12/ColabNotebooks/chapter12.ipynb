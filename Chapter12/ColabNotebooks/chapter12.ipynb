{
  "nbformat": 4,
  "nbformat_minor": 0,
  "metadata": {
    "colab": {
      "provenance": []
    },
    "kernelspec": {
      "name": "python3",
      "display_name": "Python 3"
    },
    "language_info": {
      "name": "python"
    }
  },
  "cells": [
    {
      "cell_type": "markdown",
      "source": [
        "# Chapter 12 - Enabling Compelling tinyML Solutions with On-device Learning and Scikit-Learn on the Arduino Nano and Raspberry Pi Pico"
      ],
      "metadata": {
        "id": "zB7bOIvc9Sin"
      }
    },
    {
      "cell_type": "markdown",
      "source": [
        "## Libraries"
      ],
      "metadata": {
        "id": "K83KyrxM96fk"
      }
    },
    {
      "cell_type": "code",
      "source": [
        "!pip install numpy==1.23.5\n",
        "!pip install cmsisdsp==1.9.6\n",
        "!pip install emlearn==0.18.1"
      ],
      "metadata": {
        "id": "XUdNlMRa96Fm"
      },
      "execution_count": null,
      "outputs": []
    },
    {
      "cell_type": "markdown",
      "source": [
        "## How can we train a model on microcontrollers?"
      ],
      "metadata": {
        "id": "1v2y5EPX9nUj"
      }
    },
    {
      "cell_type": "markdown",
      "source": [
        "### Reference implementation"
      ],
      "metadata": {
        "id": "AzllW7cU9v5i"
      }
    },
    {
      "cell_type": "code",
      "source": [
        "import numpy as np\n",
        "\n",
        "def sigmoid(x):\n",
        "  return 1.0 / (1.0 + np.exp(-x))\n",
        "\n",
        "def d_sigmoid(x):\n",
        "  return x * (1.0 - x)\n",
        "\n",
        "class NN:\n",
        "  def __init__(self, input_sz, out_fc0_sz, out_fc1_sz):\n",
        "    # Weights and biases\n",
        "    self.w0 = np.random.rand(input_sz, out_fc0_sz)\n",
        "    self.b0 = np.random.rand(1, out_fc0_sz)\n",
        "\n",
        "    self.w1 = np.random.rand(out_fc0_sz, out_fc1_sz)\n",
        "    self.b1 = np.random.rand(1, out_fc1_sz)\n",
        "\n",
        "  def forward(self, x):\n",
        "    input = np.expand_dims(x, axis=0)\n",
        "\n",
        "    # Fully connected 0\n",
        "    self.out_fc0 = np.dot(input, self.w0) + self.b0\n",
        "    self.out_fc0 = sigmoid(self.out_fc0)\n",
        "\n",
        "    # Fully connected 1\n",
        "    self.out_fc1 = np.dot(self.out_fc0, self.w1) + self.b1\n",
        "    self.out_fc1 = sigmoid(self.out_fc1)\n",
        "\n",
        "    return self.out_fc1\n",
        "\n",
        "  def backward(self, x, y):\n",
        "    input = np.expand_dims(x, axis=0)\n",
        "    actual_out = y\n",
        "\n",
        "    # Error/delta\n",
        "    e_out_fc1 = actual_out - self.out_fc1\n",
        "    d_out_fc1 = e_out_fc1 * d_sigmoid(self.out_fc1)\n",
        "\n",
        "    e_out_fc0 = np.dot(d_out_fc1, self.w1.T)\n",
        "    d_out_fc0 = e_out_fc0 * d_sigmoid(self.out_fc0)\n",
        "\n",
        "    # Learning rate\n",
        "    lr = 0.1\n",
        "\n",
        "    # Calculate the weights adjustments\n",
        "    w0_1 = np.dot(input.T, d_out_fc0)\n",
        "    w1_1 = np.dot(self.out_fc0.T, d_out_fc1)\n",
        "    w0_1 *= lr\n",
        "    w1_1 *= lr\n",
        "    # Calculate the biases adjustments\n",
        "    b0_1 = d_out_fc0 * lr\n",
        "    b1_1 = d_out_fc1 * lr\n",
        "\n",
        "    # Update weights and biases\n",
        "    self.w0 += w0_1\n",
        "    self.b0 += b0_1\n",
        "    self.w1 += w1_1\n",
        "    self.b1 += b1_1\n",
        "\n",
        "if __name__ == \"__main__\":\n",
        "  # XOR/NAND dataset\n",
        "  X = np.array([[0, 0, 0], [0, 1, 0], [1, 0, 0], [1, 1, 0], [0, 0, 1], [0, 1, 1], [1, 0, 1], [1, 1, 1]])\n",
        "  Y = np.array([[0], [1], [1], [0], [1], [1], [1], [0]])\n",
        "\n",
        "  nn = NN(input_sz=3, out_fc0_sz=3, out_fc1_sz=1)\n",
        "\n",
        "  epochs = 10000\n",
        "\n",
        "  for epoch in range(epochs):\n",
        "    loss = 0\n",
        "    num_correct_pred = 0\n",
        "\n",
        "    for input, actual_out in zip(X, Y):\n",
        "\n",
        "      # Feed-forward\n",
        "      predicted_out = nn.forward(input)\n",
        "\n",
        "      # Update accuracy\n",
        "      if np.round(predicted_out) == actual_out:\n",
        "        num_correct_pred += 1\n",
        "\n",
        "      # For the loss we will be using mean square error(MSE)\n",
        "      # Update loss\n",
        "      loss += np.square(actual_out - predicted_out[0]) / len(Y)\n",
        "\n",
        "      # Backpropagation\n",
        "      nn.backward(input, actual_out)\n",
        "\n",
        "    # Print accuracy and loss after each epoch\n",
        "    if epoch % 100 == 0:\n",
        "      acc = num_correct_pred / len(Y)\n",
        "      print(\"epoch[{epoch}] loss: {loss} - accuracy: {acc}\".format(epoch=epoch, loss=loss[0], acc=acc))\n",
        "\n",
        "  print(\"Training finished!\")\n",
        "\n",
        "  # Model testing\n",
        "  for x in X:\n",
        "    print(f\"Input: {x}, Output: {np.round(nn.forward(x)[0])}\")\n"
      ],
      "metadata": {
        "id": "NsoCFrDPhYqu"
      },
      "execution_count": null,
      "outputs": []
    },
    {
      "cell_type": "markdown",
      "source": [
        "### Reference implementation using the CMSIS-DSP library"
      ],
      "metadata": {
        "id": "VeBqp4cN-Ei3"
      }
    },
    {
      "cell_type": "code",
      "source": [
        "import cmsisdsp as dsp\n",
        "import numpy as np\n",
        "\n",
        "def sigmoid(x):\n",
        "  val = dsp.arm_vexp_f32(-x)\n",
        "  val = val.reshape(x.shape)\n",
        "  return 1.0 / (1 + val)\n",
        "\n",
        "def d_sigmoid(x):\n",
        "  return x * (1.0 - x)\n",
        "\n",
        "class NN:\n",
        "  def __init__(self, input_sz, out_fc0_sz, out_fc1_sz):\n",
        "    # Weights and biases\n",
        "    self.w0 = np.random.rand(input_sz, out_fc0_sz)\n",
        "    self.b0 = np.random.rand(1, out_fc0_sz)\n",
        "\n",
        "    self.w1 = np.random.rand(out_fc0_sz, out_fc1_sz)\n",
        "    self.b1 = np.random.rand(1, out_fc1_sz)\n",
        "\n",
        "  def forward_pass(self, x):\n",
        "    input = np.expand_dims(x, axis=0)\n",
        "\n",
        "    # Fully connected 0\n",
        "    self.out_fc0 = dsp.arm_mat_mult_f32(input, self.w0)[1] + self.b0\n",
        "    self.out_fc0 = sigmoid(self.out_fc0)\n",
        "\n",
        "    # Fully connected 1\n",
        "    self.out_fc1 = dsp.arm_mat_mult_f32(self.out_fc0, self.w1)[1] + self.b1\n",
        "    self.out_fc1 = sigmoid(self.out_fc1)\n",
        "\n",
        "    return self.out_fc1\n",
        "\n",
        "  def backward_pass(self, x, y):\n",
        "    input = np.expand_dims(x, axis=0)\n",
        "    actual_out = y\n",
        "\n",
        "    # Error/delta\n",
        "    e_out_fc1 = actual_out - self.out_fc1\n",
        "    d_out_fc1 = e_out_fc1 * d_sigmoid(self.out_fc1)\n",
        "\n",
        "    e_out_fc0 = dsp.arm_mat_mult_f32(d_out_fc1, self.w1.T)[1]\n",
        "    d_out_fc0 = e_out_fc0 * d_sigmoid(self.out_fc0)\n",
        "\n",
        "    # Learning rate\n",
        "    lr = 0.1\n",
        "\n",
        "    # Update the weights and biases\n",
        "    self.w0 += dsp.arm_mat_mult_f32(input.T, d_out_fc0)[1] * lr\n",
        "    self.b0 += dsp.arm_scale_f32(d_out_fc0, lr)\n",
        "\n",
        "    self.w1 += dsp.arm_mat_mult_f32(self.out_fc0.T, d_out_fc1)[1] * lr\n",
        "    self.b1 += dsp.arm_scale_f32(d_out_fc1, lr)\n",
        "\n",
        "if __name__ == \"__main__\":\n",
        "  # XOR/NAND dataset\n",
        "  X = np.array([[0, 0, 0], [0, 1, 0], [1, 0, 0], [1, 1, 0], [0, 0, 1], [0, 1, 1], [1, 0, 1], [1, 1, 1]])\n",
        "  Y = np.array([[0], [1], [1], [0], [1], [1], [1], [0]])\n",
        "\n",
        "  nn = NN(input_sz=3, out_fc0_sz=3, out_fc1_sz=1)\n",
        "\n",
        "  epochs = 10000\n",
        "\n",
        "  for epoch in range(epochs):\n",
        "    loss = 0\n",
        "    num_correct_pred = 0\n",
        "\n",
        "    for input, actual_out in zip(X, Y):\n",
        "\n",
        "      # Feed-forward\n",
        "      predicted_out = nn.forward_pass(input)\n",
        "\n",
        "      # Update accuracy\n",
        "      if np.round(predicted_out) == actual_out:\n",
        "        num_correct_pred += 1\n",
        "\n",
        "      # For the loss we will be using mean square error(MSE)\n",
        "      # Update loss\n",
        "      loss += np.square(actual_out - predicted_out[0]) / len(Y)\n",
        "\n",
        "      # Backpropagation\n",
        "      nn.backward_pass(input, actual_out)\n",
        "\n",
        "    # Print accuracy and loss after each epoch\n",
        "    if epoch % 100 == 0:\n",
        "      acc = num_correct_pred / len(Y)\n",
        "      print(\"epoch[{epoch}] loss: {loss} - accuracy: {acc}\".format(epoch=epoch, loss=loss[0], acc=acc))\n",
        "\n",
        "  print(\"Training finished!\")\n",
        "\n",
        "  # Model testing\n",
        "  for x in X:\n",
        "    print(f\"Input: {x}, Output: {np.round(nn.forward_pass(x)[0])}\")\n"
      ],
      "metadata": {
        "id": "SJJd2WTxnQFV"
      },
      "execution_count": null,
      "outputs": []
    },
    {
      "cell_type": "markdown",
      "source": [
        "## How can we deploy scikit-learn models on microcontrollers?"
      ],
      "metadata": {
        "id": "k5xYeRH_-MXq"
      }
    },
    {
      "cell_type": "markdown",
      "source": [
        "### Train a basic random forest model"
      ],
      "metadata": {
        "id": "t5Z-ePn5-TKV"
      }
    },
    {
      "cell_type": "code",
      "source": [
        "from sklearn.ensemble import RandomForestClassifier\n",
        "clf = RandomForestClassifier(random_state=0)\n",
        "X = [[ 1,  2,  3],  # 2 samples, 3 features\n",
        "     [11, 12, 13]]\n",
        "Y = [0, 1]  # classes of each sample\n",
        "clf.fit(X, Y)"
      ],
      "metadata": {
        "id": "95nPTG-nOldy"
      },
      "execution_count": null,
      "outputs": []
    },
    {
      "cell_type": "markdown",
      "source": [
        "### Define the test dataset"
      ],
      "metadata": {
        "id": "708Mz3ZD-YLN"
      }
    },
    {
      "cell_type": "code",
      "source": [
        "X_TEST = [[ 1,  2,  4],\n",
        "          [ 1,  18,  4],\n",
        "          [ 14,  12,  13]]"
      ],
      "metadata": {
        "id": "rdVGTDRuCfX9"
      },
      "execution_count": null,
      "outputs": []
    },
    {
      "cell_type": "markdown",
      "source": [
        "### Test the trained model"
      ],
      "metadata": {
        "id": "YpPJx8Q9-bxg"
      }
    },
    {
      "cell_type": "code",
      "source": [
        "clf.predict(X_TEST)"
      ],
      "metadata": {
        "id": "mFBRAGhICC9J"
      },
      "execution_count": null,
      "outputs": []
    },
    {
      "cell_type": "markdown",
      "source": [
        "### Convert the trained scikit-learn model to C code"
      ],
      "metadata": {
        "id": "ou9oYJlb-3dr"
      }
    },
    {
      "cell_type": "code",
      "source": [
        "import emlearn\n",
        "model = emlearn.convert(clf, method='inline')"
      ],
      "metadata": {
        "id": "V9bVt0hztY0-"
      },
      "execution_count": null,
      "outputs": []
    },
    {
      "cell_type": "markdown",
      "source": [
        "### Export the model to a C header file"
      ],
      "metadata": {
        "id": "2nfV3_oe_O5o"
      }
    },
    {
      "cell_type": "code",
      "source": [
        "model.save(file='model.h', name='model')"
      ],
      "metadata": {
        "id": "9o4K97HKzdSM"
      },
      "execution_count": null,
      "outputs": []
    },
    {
      "cell_type": "markdown",
      "source": [
        "### Build the emlearn Arduino library"
      ],
      "metadata": {
        "id": "0v_ptS47-eIn"
      }
    },
    {
      "cell_type": "code",
      "source": [
        "# Get the directory path where the C emlearn library files are stored\n",
        "libdir = emlearn.includedir\n",
        "\n",
        "# Create the library.properties file\n",
        "!echo \"name=emlearn\" > $libdir/library.properties\n",
        "\n",
        "# Zip the emlearn folder\n",
        "!cd $libdir/..; zip -r Arduino_EMLEARNLib.zip emlearn\n",
        "\n",
        "# Move the zip file to current directory\n",
        "!mv $libdir/../Arduino_EMLEARNLib.zip ."
      ],
      "metadata": {
        "id": "c3W4edZJFDJU"
      },
      "execution_count": null,
      "outputs": []
    }
  ]
}