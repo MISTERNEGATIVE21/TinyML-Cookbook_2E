{
  "nbformat": 4,
  "nbformat_minor": 0,
  "metadata": {
    "colab": {
      "provenance": []
    },
    "kernelspec": {
      "name": "python3",
      "display_name": "Python 3"
    },
    "language_info": {
      "name": "python"
    }
  },
  "cells": [
    {
      "cell_type": "markdown",
      "source": [
        "# <b>Chapter 11 - Running ML models on Arduino and Arm Ethos-U55 microNPU using Apache TVM</b>"
      ],
      "metadata": {
        "id": "WE441uMMp7OI"
      }
    },
    {
      "cell_type": "markdown",
      "source": [
        "## <b>Downloading the pre-trained CIFAR-10 model and input test image</b>"
      ],
      "metadata": {
        "id": "Xy-5KOD-5PDn"
      }
    },
    {
      "cell_type": "markdown",
      "source": [
        "### Download the pre-trained CIFAR-10 model"
      ],
      "metadata": {
        "id": "uc060JU_ZuLj"
      }
    },
    {
      "cell_type": "code",
      "source": [
        "!wget https://github.com/PacktPublishing/TinyML-Cookbook_2E/raw/main/Chapter11/Assets/cifar10.tflite"
      ],
      "metadata": {
        "id": "ifezEbAt7Hsr"
      },
      "execution_count": null,
      "outputs": []
    },
    {
      "cell_type": "markdown",
      "source": [
        "### Download the input.h C header file"
      ],
      "metadata": {
        "id": "PHZm_3UeZvPV"
      }
    },
    {
      "cell_type": "code",
      "source": [
        "!wget https://raw.githubusercontent.com/PacktPublishing/TinyML-Cookbook_2E/main/Chapter11/Assets/input.h"
      ],
      "metadata": {
        "id": "qYjYENt8O2eX"
      },
      "execution_count": null,
      "outputs": []
    },
    {
      "cell_type": "markdown",
      "source": [
        "## <b>Deploying models with TVM using the ahead-of-time executor on the host machine</b>"
      ],
      "metadata": {
        "id": "wMqqpWTM4xZR"
      }
    },
    {
      "cell_type": "markdown",
      "source": [
        "### Install TVM (v0.11.1)"
      ],
      "metadata": {
        "id": "8Rep3dAu9B3r"
      }
    },
    {
      "cell_type": "code",
      "source": [
        "!pip install apache-tvm==0.11.1"
      ],
      "metadata": {
        "id": "rp-bsXR5i1rR"
      },
      "execution_count": null,
      "outputs": []
    },
    {
      "cell_type": "markdown",
      "source": [
        "### Install the TensorFlow Lite Python package (2.10.0)"
      ],
      "metadata": {
        "id": "c8MskqNe4is3"
      }
    },
    {
      "cell_type": "code",
      "source": [
        "!pip install tflite==2.10.0"
      ],
      "metadata": {
        "id": "XZYNkBQK8uEN"
      },
      "execution_count": null,
      "outputs": []
    },
    {
      "cell_type": "markdown",
      "source": [
        "### Load the CIFAR-10 TensorFlow Lite model from disk"
      ],
      "metadata": {
        "id": "5Xh_3XoQ43yO"
      }
    },
    {
      "cell_type": "code",
      "source": [
        "import tflite\n",
        "\n",
        "tfl_file = open(\"cifar10.tflite\", \"rb\").read()\n",
        "tfl_model = tflite.Model.GetRootAsModel(tfl_file, 0)"
      ],
      "metadata": {
        "id": "V-g6FgvD5MB9"
      },
      "execution_count": null,
      "outputs": []
    },
    {
      "cell_type": "markdown",
      "source": [
        "### Import the TensorFlow Lite model in TVM"
      ],
      "metadata": {
        "id": "ZPCxj0p94nW7"
      }
    },
    {
      "cell_type": "code",
      "source": [
        "import tvm\n",
        "mod, params = tvm.relay.frontend.from_tflite(tfl_model)"
      ],
      "metadata": {
        "id": "ZOfSQYmEA3lL"
      },
      "execution_count": null,
      "outputs": []
    },
    {
      "cell_type": "markdown",
      "source": [
        "### Define the host machine as  target device"
      ],
      "metadata": {
        "id": "eQ_26zHAHMIE"
      }
    },
    {
      "cell_type": "code",
      "source": [
        "target = tvm.target.target.micro(\"host\")"
      ],
      "metadata": {
        "id": "wWEqViQ5IwuP"
      },
      "execution_count": null,
      "outputs": []
    },
    {
      "cell_type": "markdown",
      "source": [
        "### Define the C runtime as TVM runtime type"
      ],
      "metadata": {
        "id": "nE9nohFxHUB9"
      }
    },
    {
      "cell_type": "code",
      "source": [
        "crt = tvm.relay.backend.Runtime(\"crt\", {\"system-lib\" : True})"
      ],
      "metadata": {
        "id": "eVUxf2J_9rCT"
      },
      "execution_count": null,
      "outputs": []
    },
    {
      "cell_type": "markdown",
      "source": [
        "### Define AoT executor as TVM executor type"
      ],
      "metadata": {
        "id": "OMl6g4dTHXM6"
      }
    },
    {
      "cell_type": "code",
      "source": [
        "aot = tvm.relay.backend.Executor(\"aot\")"
      ],
      "metadata": {
        "id": "ruQL7ij09uCS"
      },
      "execution_count": null,
      "outputs": []
    },
    {
      "cell_type": "markdown",
      "source": [
        "### Compile the model for the target"
      ],
      "metadata": {
        "id": "0zqthSmiHbZh"
      }
    },
    {
      "cell_type": "code",
      "source": [
        "with tvm.transform.PassContext(opt_level=3, config={\"tir.disable_vectorize\": True}):\n",
        "    module = tvm.relay.build(mod, target, runtime=crt, executor=aot, params=params)"
      ],
      "metadata": {
        "id": "QjUgS9hb9yAB"
      },
      "execution_count": null,
      "outputs": []
    },
    {
      "cell_type": "markdown",
      "source": [
        "### Create the microTVM project"
      ],
      "metadata": {
        "id": "TPBDpTDkI3fn"
      }
    },
    {
      "cell_type": "code",
      "source": [
        "import os\n",
        "import shutil\n",
        "\n",
        "base_dir = \"/tmp/tvm/\"\n",
        "build_dir = base_dir + \"host\"\n",
        "is_exist = os.path.exists(base_dir)\n",
        "\n",
        "if is_exist:\n",
        "  shutil.rmtree(base_dir)\n",
        "\n",
        "os.mkdir(base_dir)\n",
        "\n",
        "project = tvm.micro.generate_project(\n",
        "    tvm.micro.get_microtvm_template_projects(\"crt\"),\n",
        "    module,\n",
        "    build_dir,\n",
        ")"
      ],
      "metadata": {
        "id": "8APvxXsK-zbk"
      },
      "execution_count": null,
      "outputs": []
    },
    {
      "cell_type": "markdown",
      "source": [
        "### Visualize the path to the directory containing the template project for \"crt\""
      ],
      "metadata": {
        "id": "1lPD1EeS4RrU"
      }
    },
    {
      "cell_type": "code",
      "source": [
        "print(tvm.micro.get_microtvm_template_projects(\"crt\"))"
      ],
      "metadata": {
        "id": "W16dVK-S4aX_"
      },
      "execution_count": null,
      "outputs": []
    },
    {
      "cell_type": "markdown",
      "source": [
        "### Build and flash"
      ],
      "metadata": {
        "id": "xMAIUZpqG0mG"
      }
    },
    {
      "cell_type": "code",
      "source": [
        "project.build()\n",
        "project.flash()"
      ],
      "metadata": {
        "id": "s1AoupPBA6YX"
      },
      "execution_count": null,
      "outputs": []
    },
    {
      "cell_type": "markdown",
      "source": [
        "### Get the model's input and output quantization parameters"
      ],
      "metadata": {
        "id": "q-shtSrmMvU4"
      }
    },
    {
      "cell_type": "code",
      "source": [
        "graph = tfl_model.Subgraphs(0)\n",
        "\n",
        "i_idx = 0\n",
        "o_idx = graph.TensorsLength() - 1\n",
        "\n",
        "i_tensor = graph.Tensors(i_idx)\n",
        "o_tensor = graph.Tensors(o_idx)\n",
        "\n",
        "i_quant = i_tensor.Quantization()\n",
        "o_quant = o_tensor.Quantization()\n",
        "\n",
        "i_scale = i_quant.Scale(0)\n",
        "i_zero_point = i_quant.ZeroPoint(0)\n",
        "\n",
        "o_scale = o_quant.Scale(0)\n",
        "o_zero_point = o_quant.ZeroPoint(0)\n",
        "\n",
        "print(o_scale)\n",
        "print(o_zero_point)"
      ],
      "metadata": {
        "id": "9oGdws1jMy_Y"
      },
      "execution_count": null,
      "outputs": []
    },
    {
      "cell_type": "markdown",
      "source": [
        "### Download test image"
      ],
      "metadata": {
        "id": "GGmSlVa6HtXM"
      }
    },
    {
      "cell_type": "code",
      "source": [
        "!wget -O ship.jpg https://github.com/PacktPublishing/TinyML-Cookbook_2E/blob/main/Chapter11/Assets/ship.jpg?raw=true"
      ],
      "metadata": {
        "id": "IDOGcNwlIAoS"
      },
      "execution_count": null,
      "outputs": []
    },
    {
      "cell_type": "markdown",
      "source": [
        "### Load the image file and resize to 32x32"
      ],
      "metadata": {
        "id": "6Ut4s7GP3b22"
      }
    },
    {
      "cell_type": "code",
      "source": [
        "from numpy import asarray\n",
        "from PIL import Image\n",
        "\n",
        "img_name = 'ship.jpg'\n",
        "image = Image.open(img_name)\n",
        "image = image.resize((32,32))"
      ],
      "metadata": {
        "id": "HIYi0dgrguAa"
      },
      "execution_count": null,
      "outputs": []
    },
    {
      "cell_type": "markdown",
      "source": [
        "### Convert to NumPy array:"
      ],
      "metadata": {
        "id": "sqs_DPSrOxrO"
      }
    },
    {
      "cell_type": "code",
      "source": [
        "import numpy as np\n",
        "sample = asarray(image)[np.newaxis, :]"
      ],
      "metadata": {
        "id": "7NIQBin7Oz5C"
      },
      "execution_count": null,
      "outputs": []
    },
    {
      "cell_type": "markdown",
      "source": [
        "### Normalize and quantize the input sample"
      ],
      "metadata": {
        "id": "gX1NgOyDJ0A3"
      }
    },
    {
      "cell_type": "code",
      "source": [
        "sample = sample / 255.0\n",
        "sample = (sample / i_scale) + i_zero_point"
      ],
      "metadata": {
        "id": "1UmdbkkLJ59e"
      },
      "execution_count": null,
      "outputs": []
    },
    {
      "cell_type": "markdown",
      "source": [
        "### Run the model using the host driven executor"
      ],
      "metadata": {
        "id": "yQ9krYndHxjl"
      }
    },
    {
      "cell_type": "code",
      "source": [
        "import numpy as np\n",
        "\n",
        "with tvm.micro.Session(project.transport()) as session:\n",
        "  x = session.create_aot_executor()\n",
        "  aot_executor = tvm.runtime.executor.aot_executor.AotModule(x)\n",
        "  aot_executor.get_input(0).copyfrom(sample)\n",
        "  aot_executor.run()\n",
        "  result = aot_executor.get_output(0).numpy()"
      ],
      "metadata": {
        "id": "CAYUujwIWblU"
      },
      "execution_count": null,
      "outputs": []
    },
    {
      "cell_type": "markdown",
      "source": [
        "### Dequantize the output"
      ],
      "metadata": {
        "id": "dba8NSDqJs8H"
      }
    },
    {
      "cell_type": "code",
      "source": [
        "result = o_scale * (result - o_zero_point)"
      ],
      "metadata": {
        "id": "T-Xqtmz9JxbP"
      },
      "execution_count": null,
      "outputs": []
    },
    {
      "cell_type": "markdown",
      "source": [
        "### Read the output classification"
      ],
      "metadata": {
        "id": "RANCGuJ4I_6r"
      }
    },
    {
      "cell_type": "code",
      "source": [
        "labels = [\n",
        "    \"airplane\", \"automobile\", \"bird\",\n",
        "    \"cat\", \"deer\", \"dog\",\n",
        "    \"frog\", \"horse\", \"ship\", \"truck\"\n",
        "]\n",
        "\n",
        "print(f\"Result: `{labels[np.argmax(result)]}`\")"
      ],
      "metadata": {
        "id": "22ghO8EOWuD_"
      },
      "execution_count": null,
      "outputs": []
    },
    {
      "cell_type": "markdown",
      "source": [
        "## <b>Deploying models on the Arduino Nano</b>"
      ],
      "metadata": {
        "id": "Z6c95gXiEy5Z"
      }
    },
    {
      "cell_type": "markdown",
      "source": [
        "### Install Arduino CLI"
      ],
      "metadata": {
        "id": "nePWfPPtdgM9"
      }
    },
    {
      "cell_type": "code",
      "source": [
        "!curl -fsSL https://raw.githubusercontent.com/arduino/arduino-cli/0.34.0/install.sh | sh\n",
        "\n",
        "import os\n",
        "os.environ['PATH'] += ':/content/bin'"
      ],
      "metadata": {
        "id": "YMfc8BpXdiUz"
      },
      "execution_count": null,
      "outputs": []
    },
    {
      "cell_type": "markdown",
      "source": [
        "### Define the Arduino Nano target"
      ],
      "metadata": {
        "id": "1P71_YHs2DGb"
      }
    },
    {
      "cell_type": "code",
      "source": [
        "nano33 = tvm.target.target.micro(\"nrf52840\")"
      ],
      "metadata": {
        "id": "08lC9tUiFDZ-"
      },
      "execution_count": null,
      "outputs": []
    },
    {
      "cell_type": "markdown",
      "source": [
        "### List all target names"
      ],
      "metadata": {
        "id": "KdDm4dEd1MwX"
      }
    },
    {
      "cell_type": "code",
      "source": [
        "print(tvm.target.target.MICRO_SUPPORTED_MODELS)"
      ],
      "metadata": {
        "id": "RdkymrHh1QGL"
      },
      "execution_count": null,
      "outputs": []
    },
    {
      "cell_type": "markdown",
      "source": [
        "### Define the C runtime and AoT executor as TVM runtime and executor type"
      ],
      "metadata": {
        "id": "leAQd3I9xv-w"
      }
    },
    {
      "cell_type": "code",
      "source": [
        "crt = tvm.relay.backend.Runtime(\"crt\")\n",
        "\n",
        "opts_exec = {\"unpacked-api\": True}\n",
        "aot = tvm.relay.backend.Executor(\"aot\", opts_exec)"
      ],
      "metadata": {
        "id": "SXDAZ76ux4tJ"
      },
      "execution_count": null,
      "outputs": []
    },
    {
      "cell_type": "markdown",
      "source": [
        "### Write a helper function to compile the model"
      ],
      "metadata": {
        "id": "gbZaxyAix615"
      }
    },
    {
      "cell_type": "code",
      "source": [
        "def compile_model(device):\n",
        "  compiler_opts = {\"tir.disable_vectorize\": True}\n",
        "  with tvm.transform.PassContext(opt_level=3, config=compiler_opts):\n",
        "    return tvm.relay.build(mod, device, runtime=crt, executor=aot, params=params)"
      ],
      "metadata": {
        "id": "GAueS9-7FcOK"
      },
      "execution_count": null,
      "outputs": []
    },
    {
      "cell_type": "markdown",
      "source": [
        "### Compile the model for the Arduino Nano"
      ],
      "metadata": {
        "id": "fy71RoGt2tB8"
      }
    },
    {
      "cell_type": "code",
      "source": [
        "lib_nano33 = compile_model(nano33)"
      ],
      "metadata": {
        "id": "lQIbNYhGfE9M"
      },
      "execution_count": null,
      "outputs": []
    },
    {
      "cell_type": "markdown",
      "source": [
        "### Display the list of supported Arduino boards in TVM"
      ],
      "metadata": {
        "id": "Ru7orI2p-Qld"
      }
    },
    {
      "cell_type": "code",
      "source": [
        "x = tvm.micro.get_microtvm_template_projects(\"arduino\")\n",
        "file_path = x + \"/boards.json\"\n",
        "\n",
        "!cat $file_path"
      ],
      "metadata": {
        "id": "qYloovJWHxMm"
      },
      "execution_count": null,
      "outputs": []
    },
    {
      "cell_type": "markdown",
      "source": [
        "### Write a helper function to create an Arduino project from the library generated by tvm.relay().build() function"
      ],
      "metadata": {
        "id": "XzgHnUuFdHLR"
      }
    },
    {
      "cell_type": "code",
      "source": [
        "def build_arduino_prj(board, lib):\n",
        "  base_dir = \"/tmp/tvm/\"\n",
        "  is_exist = os.path.exists(base_dir)\n",
        "  if is_exist:\n",
        "    shutil.rmtree(base_dir)\n",
        "\n",
        "  os.mkdir(base_dir)\n",
        "\n",
        "  build_dir = base_dir + board\n",
        "\n",
        "  shutil.rmtree(build_dir, ignore_errors=True)\n",
        "\n",
        "  return tvm.micro.generate_project(\n",
        "    tvm.micro.get_microtvm_template_projects(\"arduino\"),\n",
        "    lib,\n",
        "    build_dir,\n",
        "    {\n",
        "        \"board\": board,\n",
        "        \"project_type\": \"example_project\",\n",
        "    },\n",
        ")"
      ],
      "metadata": {
        "id": "NRuDH9pYd970"
      },
      "execution_count": null,
      "outputs": []
    },
    {
      "cell_type": "markdown",
      "source": [
        "### Create the Arduino project"
      ],
      "metadata": {
        "id": "FicQifGSdYbg"
      }
    },
    {
      "cell_type": "code",
      "source": [
        "prj_nano = build_arduino_prj(\"nano33ble\", lib_nano33)"
      ],
      "metadata": {
        "id": "EDA9bfVbfGeg"
      },
      "execution_count": null,
      "outputs": []
    },
    {
      "cell_type": "markdown",
      "source": [
        "### Display the content of the /tmp/tvm/nano33ble folder"
      ],
      "metadata": {
        "id": "YPB858Q9gMQW"
      }
    },
    {
      "cell_type": "code",
      "source": [
        "!ls /tmp/tvm/nano33ble/"
      ],
      "metadata": {
        "id": "bTLojOlrdgYp"
      },
      "execution_count": null,
      "outputs": []
    },
    {
      "cell_type": "markdown",
      "source": [
        "### Show the content of the nano33ble.ino sketch"
      ],
      "metadata": {
        "id": "rQwgxihtgRPL"
      }
    },
    {
      "cell_type": "code",
      "source": [
        "!cat /tmp/tvm/nano33ble/nano33ble.ino"
      ],
      "metadata": {
        "id": "IeApSAgOFYTS"
      },
      "execution_count": null,
      "outputs": []
    },
    {
      "cell_type": "markdown",
      "source": [
        "### Remove the boards.json, Makefile, microtvm_api_server.py, and nano33ble.ino files from the Arduino project"
      ],
      "metadata": {
        "id": "oEn5d_1KhabA"
      }
    },
    {
      "cell_type": "code",
      "source": [
        "!rm /tmp/tvm/nano33ble/boards.json\n",
        "!rm /tmp/tvm/nano33ble/Makefile\n",
        "!rm /tmp/tvm/nano33ble/microtvm_api_server.py\n",
        "!rm /tmp/tvm/nano33ble/nano33ble.ino"
      ],
      "metadata": {
        "id": "wYuan9hFBfOQ"
      },
      "execution_count": null,
      "outputs": []
    },
    {
      "cell_type": "markdown",
      "source": [
        "### Remove the inclusion of the Arduino.h in model.c"
      ],
      "metadata": {
        "id": "9Kwq6iDBbnfA"
      }
    },
    {
      "cell_type": "code",
      "source": [
        "# The inclusion of this file could cause compilation issues on some platforms\n",
        "!sed -i 's/#include \"Arduino.h\"//g' /tmp/tvm/nano33ble/src/model.c"
      ],
      "metadata": {
        "id": "ORE-AwxObqVK"
      },
      "execution_count": null,
      "outputs": []
    },
    {
      "cell_type": "markdown",
      "source": [
        "### Copy the input.h C header file into the Arduino project"
      ],
      "metadata": {
        "id": "xNiJgne_hdk8"
      }
    },
    {
      "cell_type": "code",
      "source": [
        "!cp input.h /tmp/tvm/nano33ble/src"
      ],
      "metadata": {
        "id": "c0vBNzmDmanK"
      },
      "execution_count": null,
      "outputs": []
    },
    {
      "cell_type": "markdown",
      "source": [
        "### Zip the content of the Arduino project"
      ],
      "metadata": {
        "id": "5ru3c-i6hjEw"
      }
    },
    {
      "cell_type": "code",
      "source": [
        "!cd /tmp/tvm/nano33ble; zip -r micro_tvm_code.zip .\n",
        "!mv /tmp/tvm/nano33ble/micro_tvm_code.zip ."
      ],
      "metadata": {
        "id": "-x4ScHiAAPBk"
      },
      "execution_count": null,
      "outputs": []
    },
    {
      "cell_type": "code",
      "source": [
        "%%writefile /tmp/tvm/nano33ble/nano33ble.ino\n",
        "#include \"src/model.h\"\n",
        "#include \"src/input.h\"\n",
        "#include \"mbed.h\"\n",
        "\n",
        "float out_scale = 0.10305877029895782;\n",
        "int32_t out_zero_point = 20;\n",
        "\n",
        "void dequantize(int8_t* src, float* dst, int32_t len) {\n",
        "  for(int32_t i = 0; i < len; ++i) {\n",
        "    dst[i] = out_scale  * (src[i] - out_zero_point);\n",
        "  }\n",
        "}\n",
        "\n",
        "int32_t argmax(float* src, int32_t len) {\n",
        "  int32_t max_idx = 0;\n",
        "  float max_score = src[0];\n",
        "\n",
        "  for(int32_t i = 1; i < len; ++i) {\n",
        "    if(src[i] > max_score) {\n",
        "      max_score = src[i];\n",
        "      max_idx   = i;\n",
        "    }\n",
        "  }\n",
        "  return max_idx;\n",
        "}\n",
        "\n",
        "mbed::DigitalOut led(LED1);\n",
        "\n",
        "void setup() {\n",
        "  TVMInitialize();\n",
        "  led = 0;\n",
        "}\n",
        "\n",
        "void loop() {\n",
        "  int8_t out_q8[10];\n",
        "  float out_f32[10];\n",
        "  TVMExecute(g_test, out_q8);\n",
        "\n",
        "  dequantize(out_q8, out_f32, 10);\n",
        "\n",
        "  int32_t max_idx = argmax(out_f32, 10);\n",
        "\n",
        "  if(max_idx == g_test_ilabel) {\n",
        "    led = 1;\n",
        "  }\n",
        "  while(1);\n",
        "}"
      ],
      "metadata": {
        "id": "pzOP0PJ6QtGA"
      },
      "execution_count": null,
      "outputs": []
    },
    {
      "cell_type": "markdown",
      "source": [
        "## <b>Deploying models on the Raspberry Pi Pico</b>"
      ],
      "metadata": {
        "id": "KjzdGc12iMsC"
      }
    },
    {
      "cell_type": "markdown",
      "source": [
        "### Define the Raspberry Pi Pico target"
      ],
      "metadata": {
        "id": "AhHUxns_173H"
      }
    },
    {
      "cell_type": "code",
      "source": [
        "rp2040 = tvm.target.target.micro(\"rp2040\")"
      ],
      "metadata": {
        "id": "n3VGk5YXiYc8"
      },
      "execution_count": null,
      "outputs": []
    },
    {
      "cell_type": "markdown",
      "source": [
        "### Define the C runtime and AoT executor as TVM runtime and executor type"
      ],
      "metadata": {
        "id": "aMZAo_xt2MwE"
      }
    },
    {
      "cell_type": "code",
      "source": [
        "crt = tvm.relay.backend.Runtime(\"crt\")\n",
        "aot = tvm.relay.backend.Executor(\"aot\", {\"unpacked-api\": True})"
      ],
      "metadata": {
        "id": "L-H17K9xibMu"
      },
      "execution_count": null,
      "outputs": []
    },
    {
      "cell_type": "markdown",
      "source": [
        "### Compile the model for the Raspberry Pi Pico"
      ],
      "metadata": {
        "id": "N9lYbaU82zyM"
      }
    },
    {
      "cell_type": "code",
      "source": [
        "lib_rp2040 = compile_model(rp2040)"
      ],
      "metadata": {
        "id": "3l6JPvVxHEt2"
      },
      "execution_count": null,
      "outputs": []
    },
    {
      "cell_type": "markdown",
      "source": [
        "### Create the Arduino project"
      ],
      "metadata": {
        "id": "eJG6OiJz25Ls"
      }
    },
    {
      "cell_type": "code",
      "source": [
        "prj_pico = build_arduino_prj(\"nano33ble\", lib_rp2040)"
      ],
      "metadata": {
        "id": "lUna66X1ejoF"
      },
      "execution_count": null,
      "outputs": []
    },
    {
      "cell_type": "markdown",
      "source": [
        "### Remove the boards.json, Makefile, microtvm_api_server.py, and nano33ble.ino files from the Arduino project"
      ],
      "metadata": {
        "id": "s_2ROrEC3oYZ"
      }
    },
    {
      "cell_type": "code",
      "source": [
        "!rm /tmp/tvm/nano33ble/boards.json\n",
        "!rm /tmp/tvm/nano33ble/Makefile\n",
        "!rm /tmp/tvm/nano33ble/microtvm_api_server.py\n",
        "!rm /tmp/tvm/nano33ble/nano33ble.ino"
      ],
      "metadata": {
        "id": "phv_gqwVkW6X"
      },
      "execution_count": null,
      "outputs": []
    },
    {
      "cell_type": "markdown",
      "source": [
        "### Remove the inclusion of the Arduino.h in model.c"
      ],
      "metadata": {
        "id": "1tA0UkdZb3hN"
      }
    },
    {
      "cell_type": "code",
      "source": [
        "# The inclusion of this file could cause compilation issues on some platforms\n",
        "!sed -i 's/#include \"Arduino.h\"//g' /tmp/tvm/nano33ble/src/model.c"
      ],
      "metadata": {
        "id": "C4-lRWnkb4EI"
      },
      "execution_count": null,
      "outputs": []
    },
    {
      "cell_type": "markdown",
      "source": [
        "### Copy the input.h C header file into the Arduino project"
      ],
      "metadata": {
        "id": "T5jKDk4F3pp3"
      }
    },
    {
      "cell_type": "code",
      "source": [
        "!cp input.h /tmp/tvm/nano33ble/src"
      ],
      "metadata": {
        "id": "AmNICgbwm39u"
      },
      "execution_count": null,
      "outputs": []
    },
    {
      "cell_type": "markdown",
      "source": [
        "### Zip the content of the Arduino project"
      ],
      "metadata": {
        "id": "j-8MejO23wYX"
      }
    },
    {
      "cell_type": "code",
      "source": [
        "!cd /tmp/tvm/nano33ble; zip -r micro_tvm_code.zip .\n",
        "!mv /tmp/tvm/nano33ble/micro_tvm_code.zip ."
      ],
      "metadata": {
        "id": "FlJSzWcb3xOC"
      },
      "execution_count": null,
      "outputs": []
    },
    {
      "cell_type": "markdown",
      "source": [
        "### Generate code with TVM for the SparkFun Artemis Nano"
      ],
      "metadata": {
        "id": "nFtW4lCu8rrl"
      }
    },
    {
      "cell_type": "code",
      "source": [
        "# Specify target device and execution type\n",
        "t = \"c -keys=arm_cpu,cpu -mcpu=cmsis-nn,cortex-m4\"\n",
        "artemis_nano = tvm.target.Target(t)\n",
        "crt = tvm.relay.backend.Runtime(\"crt\")\n",
        "aot = tvm.relay.backend.Executor(\"aot\", {\"unpacked-api\": True})\n",
        "\n",
        "# Compile project\n",
        "lib_artemis_nano = compile_model(artemis_nano)\n",
        "\n",
        "# Build Arduino project\n",
        "prj_artemis_nano = build_arduino_prj(\"nano33ble\", lib_artemis_nano)\n",
        "\n",
        "# Remove files not required for the project\n",
        "!rm /tmp/tvm/nano33ble/boards.json\n",
        "!rm /tmp/tvm/nano33ble/Makefile\n",
        "!rm /tmp/tvm/nano33ble/microtvm_api_server.py\n",
        "!rm /tmp/tvm/nano33ble/nano33ble.ino\n",
        "\n",
        "# Remove the inclusion of the Arduino.h header file in /tmp/tvm/nano33ble/src/model.c\n",
        "!sed -i 's/#include \"Arduino.h\"//g' /tmp/tvm/nano33ble/src/model.c\n",
        "\n",
        "# Zip the content of the Arduuno project\n",
        "!cd /tmp/tvm/nano33ble; zip -r micro_tvm_code.zip .\n",
        "!mv /tmp/tvm/nano33ble/micro_tvm_code.zip ."
      ],
      "metadata": {
        "id": "M42Poj5W8vJt"
      },
      "execution_count": null,
      "outputs": []
    },
    {
      "cell_type": "markdown",
      "source": [
        "## <b>Installing the Arm Corstone-300 Fixed Virtual Platform</b>"
      ],
      "metadata": {
        "id": "y8FbgpR8R1fB"
      }
    },
    {
      "cell_type": "markdown",
      "source": [
        "### Download the FVP model for the Arm Corstone-300 platform"
      ],
      "metadata": {
        "id": "cNuIOh4lUJo1"
      }
    },
    {
      "cell_type": "code",
      "source": [
        "!wget https://developer.arm.com/-/media/Arm%20Developer%20Community/Downloads/OSS/FVP/Corstone-300/FVP_Corstone_SSE-300_11.22_20_Linux64.tgz?rev=018659bd574f4e7b95fa647e7836ccf4&hash=22A79103C6FA5FFA7AFF3BE0447F3FF9"
      ],
      "metadata": {
        "id": "DLEDGaJ1kIrL"
      },
      "execution_count": null,
      "outputs": []
    },
    {
      "cell_type": "markdown",
      "source": [
        "### Decompress the .tgz file and make FVP_Corstone_SSE-300.sh executable"
      ],
      "metadata": {
        "id": "2PevfEnSUOwY"
      }
    },
    {
      "cell_type": "code",
      "source": [
        "!tar -xvzf FVP_Corstone_SSE-300_11.22_20_Linux64.tgz?rev=018659bd574f4e7b95fa647e7836ccf4"
      ],
      "metadata": {
        "id": "VnjsS3lpkOUq"
      },
      "execution_count": null,
      "outputs": []
    },
    {
      "cell_type": "code",
      "source": [
        "!chmod +x FVP_Corstone_SSE-300.sh"
      ],
      "metadata": {
        "id": "L8ppgGBZknJ8"
      },
      "execution_count": null,
      "outputs": []
    },
    {
      "cell_type": "markdown",
      "source": [
        "### Run the ./FVP_Corstone_SSE-300.sh"
      ],
      "metadata": {
        "id": "zwCrVcqaU7hg"
      }
    },
    {
      "cell_type": "code",
      "source": [
        "!./FVP_Corstone_SSE-300.sh \\\n",
        "  --i-agree-to-the-contained-eula \\\n",
        "  --no-interactive"
      ],
      "metadata": {
        "id": "vYpsJoejkw4a"
      },
      "execution_count": null,
      "outputs": []
    },
    {
      "cell_type": "code",
      "source": [
        "!ls /usr/local/FVP_Corstone_SSE-300/models/Linux64_GCC-9.3"
      ],
      "metadata": {
        "id": "3kIaTI4zpZ8O"
      },
      "execution_count": null,
      "outputs": []
    },
    {
      "cell_type": "markdown",
      "source": [
        "### Add the path of the Corstone-300 binaries to the $PATH environment variable"
      ],
      "metadata": {
        "id": "Dhf-vIzuWkS5"
      }
    },
    {
      "cell_type": "code",
      "source": [
        "os.environ['PATH'] += ':/usr/local/FVP_Corstone_SSE-300/models/Linux64_GCC-9.3'"
      ],
      "metadata": {
        "id": "S79xnWh-pUW6"
      },
      "execution_count": null,
      "outputs": []
    },
    {
      "cell_type": "markdown",
      "source": [
        "### Verify the correct installation of the FVP model for the Arm Corstone-300 platform"
      ],
      "metadata": {
        "id": "v8LFI6N-WsE2"
      }
    },
    {
      "cell_type": "code",
      "source": [
        "!FVP_Corstone_SSE-300_Ethos-U55 --version"
      ],
      "metadata": {
        "id": "DOLByv7EpsQk"
      },
      "execution_count": null,
      "outputs": []
    },
    {
      "cell_type": "markdown",
      "source": [
        "## <b>Code generation with TVMC for Arm Ethos-U55</b>"
      ],
      "metadata": {
        "id": "R03B3HPRYo0H"
      }
    },
    {
      "cell_type": "markdown",
      "source": [
        "### Test TVMC tool"
      ],
      "metadata": {
        "id": "Du2gfwBiVbmK"
      }
    },
    {
      "cell_type": "markdown",
      "source": [
        "https://github.com/apache/tvm/tree/v0.11.0/apps/microtvm/ethosu"
      ],
      "metadata": {
        "id": "i8XLszwjUpk9"
      }
    },
    {
      "cell_type": "code",
      "source": [
        "!python -m tvm.driver.tvmc"
      ],
      "metadata": {
        "id": "mW3XxqZ5z0XC"
      },
      "execution_count": null,
      "outputs": []
    },
    {
      "cell_type": "markdown",
      "source": [
        "### Create the ethosu_prj directory to keep the files required for the Arm Ethos-U55 application we aim to build"
      ],
      "metadata": {
        "id": "sgV0LU6oUw00"
      }
    },
    {
      "cell_type": "code",
      "source": [
        "!mkdir ethosu_prj"
      ],
      "metadata": {
        "id": "R9Na3imkSDWv"
      },
      "execution_count": null,
      "outputs": []
    },
    {
      "cell_type": "markdown",
      "source": [
        "### Create a folder called tvm_code inside the ethosu_prj directory to keep the C code generated by TVM"
      ],
      "metadata": {
        "id": "wH-JU-0DVCp8"
      }
    },
    {
      "cell_type": "code",
      "source": [
        "!mkdir ethosu_prj/tvm_code"
      ],
      "metadata": {
        "id": "sl04mUMh8unR"
      },
      "execution_count": null,
      "outputs": []
    },
    {
      "cell_type": "markdown",
      "source": [
        "### Install the Arm Ethos-U Vela Python package"
      ],
      "metadata": {
        "id": "iCKErm9GT6ip"
      }
    },
    {
      "cell_type": "code",
      "source": [
        "!pip install ethos-u-vela==3.8.0"
      ],
      "metadata": {
        "id": "JmT0_NMuQ9fj"
      },
      "execution_count": null,
      "outputs": []
    },
    {
      "cell_type": "markdown",
      "source": [
        "### Generate the C code for running the CIFAR-10 model inference on the Arm Ethos-U55"
      ],
      "metadata": {
        "id": "fta8fM_gVgAJ"
      }
    },
    {
      "cell_type": "code",
      "source": [
        "!python -m tvm.driver.tvmc compile \\\n",
        "             --target=ethos-u,cmsis-nn,c \\\n",
        "             --target-ethos-u-accelerator_config=ethos-u55-256 \\\n",
        "             --target-cmsis-nn-mcpu=cortex-m55 \\\n",
        "             --target-c-mcpu=cortex-m55 \\\n",
        "             --runtime=crt \\\n",
        "             --executor=aot \\\n",
        "             --executor-aot-interface-api=c \\\n",
        "             --executor-aot-unpacked-api=1 \\\n",
        "             --pass-config tir.disable_vectorize=1 \\\n",
        "             --pass-config tir.usmp.enable=1 \\\n",
        "             --pass-config tir.usmp.algorithm=hill_climb \\\n",
        "             --output-format=mlf \\\n",
        "             ./cifar10.tflite"
      ],
      "metadata": {
        "id": "pLw9-QiYOa_q"
      },
      "execution_count": null,
      "outputs": []
    },
    {
      "cell_type": "markdown",
      "source": [
        "### Extract the content of the module.tar file into the ethosu_prj/tvm_code/ directory"
      ],
      "metadata": {
        "id": "t406_G_rWzIB"
      }
    },
    {
      "cell_type": "code",
      "source": [
        "!tar -C ethosu_prj/tvm_code -xvf module.tar"
      ],
      "metadata": {
        "id": "rIBELqo8RW4S"
      },
      "execution_count": null,
      "outputs": []
    },
    {
      "cell_type": "markdown",
      "source": [
        "## <b>Installing the software dependencies for building an application for the Arm Ethos-U microNPU</b>"
      ],
      "metadata": {
        "id": "bVmcEWyB-S1g"
      }
    },
    {
      "cell_type": "markdown",
      "source": [
        "### Create a folder to hold the GNU Arm embedded toolchain binaries"
      ],
      "metadata": {
        "id": "2WuqYBsR-atW"
      }
    },
    {
      "cell_type": "code",
      "source": [
        "!mkdir ethosu_prj/toolchain"
      ],
      "metadata": {
        "id": "l9LX7b3zJ9TM"
      },
      "execution_count": null,
      "outputs": []
    },
    {
      "cell_type": "markdown",
      "source": [
        "### Download the GNU Arm embedded toolchain"
      ],
      "metadata": {
        "id": "UPbaDmOs-og5"
      }
    },
    {
      "cell_type": "code",
      "source": [
        "!curl --retry 64 -sSL 'https://developer.arm.com/-/media/Files/downloads/gnu-rm/10-2020q4/gcc-arm-none-eabi-10-2020-q4-major-x86_64-linux.tar.bz2?revision=ca0cbf9c-9de2-491c-ac48-898b5bbc0443&la=en&hash=68760A8AE66026BCF99F05AC017A6A50C6FD832A' | tar -C ethosu_prj/toolchain --strip-components=1 -jx"
      ],
      "metadata": {
        "id": "aEtMYfcDEMpD"
      },
      "execution_count": null,
      "outputs": []
    },
    {
      "cell_type": "markdown",
      "source": [
        "### Add the path of the GNU Arm embedded toolchain binaries to the $PATH environment variable"
      ],
      "metadata": {
        "id": "8IBKB-fEAt1R"
      }
    },
    {
      "cell_type": "code",
      "source": [
        "os.environ['PATH'] += ':/content/ethosu_prj/toolchain/bin/'"
      ],
      "metadata": {
        "id": "SmZIenyYQZ9-"
      },
      "execution_count": null,
      "outputs": []
    },
    {
      "cell_type": "markdown",
      "source": [
        "### Verify the correct installation of the GNU Arm embedded toolchain"
      ],
      "metadata": {
        "id": "clsfCJxvA2p5"
      }
    },
    {
      "cell_type": "code",
      "source": [
        "!arm-none-eabi-gcc -mcpu=."
      ],
      "metadata": {
        "id": "ebYTV774SgGR"
      },
      "execution_count": null,
      "outputs": []
    },
    {
      "cell_type": "markdown",
      "source": [
        "### Clone the Arm Ethos-U driver (21.11 release)"
      ],
      "metadata": {
        "id": "od2tR6EcDbNN"
      }
    },
    {
      "cell_type": "code",
      "source": [
        "!git clone \\\n",
        "  \"https://review.mlplatform.org/ml/ethos-u/ethos-u-core-driver\" \\\n",
        "  ethosu_prj/driver \\\n",
        "  --branch 21.11"
      ],
      "metadata": {
        "id": "_fhyXoSHV5Ie"
      },
      "execution_count": null,
      "outputs": []
    },
    {
      "cell_type": "markdown",
      "source": [
        "### Clone the Arm Ethos-U platform (21.11 release)"
      ],
      "metadata": {
        "id": "cd0jalKZDgFG"
      }
    },
    {
      "cell_type": "code",
      "source": [
        "!git clone \\\n",
        "  \"https://review.mlplatform.org/ml/ethos-u/ethos-u-core-platform\" \\\n",
        "  ethosu_prj/platform \\\n",
        "  --branch 21.11"
      ],
      "metadata": {
        "id": "Q-DVZ94DaIOX"
      },
      "execution_count": null,
      "outputs": []
    },
    {
      "cell_type": "markdown",
      "source": [
        "### Clone the CMSIS library (5.9.0 release)"
      ],
      "metadata": {
        "id": "E09l0hBXD1MM"
      }
    },
    {
      "cell_type": "code",
      "source": [
        "!git clone \\\n",
        "  \"https://github.com/ARM-software/CMSIS_5.git\" \\\n",
        "  ethosu_prj/cmsis \\\n",
        "  --branch 5.9.0"
      ],
      "metadata": {
        "id": "E4gEXkPoZLX0"
      },
      "execution_count": null,
      "outputs": []
    },
    {
      "cell_type": "markdown",
      "source": [
        "### <b>Running the CIFAR-10 model inference on the Arm Ethos-U55 microNPU</b>"
      ],
      "metadata": {
        "id": "Hcj163pSESSZ"
      }
    },
    {
      "cell_type": "markdown",
      "source": [
        "### Clone the TVM v0.11.1 repository"
      ],
      "metadata": {
        "id": "P-c_BfK2L1sS"
      }
    },
    {
      "cell_type": "code",
      "source": [
        "!git clone \\\n",
        "  \"https://github.com/apache/tvm.git\" \\\n",
        "  --branch v0.11.1"
      ],
      "metadata": {
        "id": "Z1OpQAi2ijIX"
      },
      "execution_count": null,
      "outputs": []
    },
    {
      "cell_type": "markdown",
      "source": [
        "### Copy the sample code (src/ and include/) to run the MobileNet v2 model inference on Arm Ethos-U55"
      ],
      "metadata": {
        "id": "ohFmOvtUMn1S"
      }
    },
    {
      "cell_type": "code",
      "source": [
        "!cp -r tvm/apps/microtvm/ethosu/src ethosu_prj/\n",
        "!cp -r tvm/apps/microtvm/ethosu/include ethosu_prj/"
      ],
      "metadata": {
        "id": "z3iNwfDYi4AX"
      },
      "execution_count": null,
      "outputs": []
    },
    {
      "cell_type": "markdown",
      "source": [
        "### Copy the build scripts (arm-none-eabi-gcc.cmake and corstone300.ld) in the ethosu_prj/ folder\n"
      ],
      "metadata": {
        "id": "JkdVbsKWMxqh"
      }
    },
    {
      "cell_type": "code",
      "source": [
        "!cp -r tvm/apps/microtvm/ethosu/arm-none-eabi-gcc.cmake ethosu_prj/\n",
        "!cp -r tvm/apps/microtvm/ethosu/corstone300.ld ethosu_prj/"
      ],
      "metadata": {
        "id": "DFqzRwewkOuj"
      },
      "execution_count": null,
      "outputs": []
    },
    {
      "cell_type": "markdown",
      "source": [
        "### Copy the input.h C header file into the ethosu_prj/ folder"
      ],
      "metadata": {
        "id": "yCfSmwc2OHHv"
      }
    },
    {
      "cell_type": "code",
      "source": [
        "!cp input.h ethosu_prj/include"
      ],
      "metadata": {
        "id": "begYFIXQFVeD"
      },
      "execution_count": null,
      "outputs": []
    },
    {
      "cell_type": "markdown",
      "source": [
        "### Specify the memory section attribute ()"
      ],
      "metadata": {
        "id": "cNtRIYgpORR4"
      }
    },
    {
      "cell_type": "code",
      "source": [
        "os.environ['src_txt'] = 'g_test\\[\\]'\n",
        "os.environ['dst_txt'] = 'g_test\\[\\] __attribute__((section(\"ethosu_scratch\"), aligned(16)))'\n",
        "\n",
        "!sed -i \"s/$src_txt/$dst_txt/g\" \\\n",
        "  ethosu_prj/include/input.h"
      ],
      "metadata": {
        "id": "8F0dSuCyI6-h"
      },
      "execution_count": null,
      "outputs": []
    },
    {
      "cell_type": "markdown",
      "source": [
        "### Write the application for running the CIFAR-10 model inference on the Arm Ethos-U55"
      ],
      "metadata": {
        "id": "uaGX_otUVE2D"
      }
    },
    {
      "cell_type": "markdown",
      "source": [
        "the %%writefile command is a Jupyter Notebook command used to write the content of the cell to a file on the disk."
      ],
      "metadata": {
        "id": "-vkvbQ8EVKps"
      }
    },
    {
      "cell_type": "code",
      "source": [
        "%%writefile ethosu_prj/src/demo_bare_metal.c\n",
        "#include <stdio.h>\n",
        "#include <tvm_runtime.h>\n",
        "#include <tvmgen_default.h>\n",
        "\n",
        "#include \"ethosu_mod.h\"\n",
        "#include \"uart.h\"\n",
        "\n",
        "#include \"input.h\"\n",
        "\n",
        "float out_scale = 0.10305877029895782;\n",
        "int32_t out_zero_point = 20;\n",
        "\n",
        "void dequantize(int8_t* src, float* dst, int32_t len) {\n",
        "  for(int32_t i = 0; i < len; ++i) {\n",
        "    dst[i] = out_scale  * (src[i] - out_zero_point);\n",
        "  }\n",
        "}\n",
        "\n",
        "int32_t argmax(float* src, int32_t len) {\n",
        "  int32_t max_idx = 0;\n",
        "  float max_score = src[0];\n",
        "\n",
        "  for(int32_t i = 1; i < len; ++i) {\n",
        "    if(src[i] > max_score) {\n",
        "      max_score = src[i];\n",
        "      max_idx   = i;\n",
        "    }\n",
        "  }\n",
        "  return max_idx;\n",
        "}\n",
        "\n",
        "int abs(int v) { return v * ((v > 0) - (v < 0)); }\n",
        "\n",
        "int8_t out_q8[10] __attribute__((section(\"ethosu_scratch\"), aligned(16)));\n",
        "float out_f32[10] __attribute__((section(\"ethosu_scratch\"), aligned(16)));\n",
        "\n",
        "int main(int argc, char** argv) {\n",
        "  uart_init();\n",
        "\n",
        "  printf(\"Starting Demo\\n\");\n",
        "  EthosuInit();\n",
        "\n",
        "  printf(\"Running inference\\n\");\n",
        "  struct tvmgen_default_outputs outputs = {\n",
        "      .StatefulPartitionedCall_0 = out_q8,\n",
        "  };\n",
        "\n",
        "  struct tvmgen_default_inputs inputs = {\n",
        "      .serving_default_input_1_0 = g_test,\n",
        "  };\n",
        "  struct ethosu_driver* driver = ethosu_reserve_driver();\n",
        "  struct tvmgen_default_devices devices = {\n",
        "      .ethos_u = driver,\n",
        "  };\n",
        "  tvmgen_default_run(&inputs, &outputs, &devices);\n",
        "  ethosu_release_driver(driver);\n",
        "\n",
        "  dequantize(out_q8, out_f32, 10);\n",
        "\n",
        "  int32_t max_idx = argmax(out_f32, 10);\n",
        "\n",
        "  if(max_idx == g_test_ilabel) {\n",
        "    printf(\"The image has been correctly classified\\n\");\n",
        "  }\n",
        "  else {\n",
        "    printf(\"Classification FAILED\\n\");\n",
        "  }\n",
        "\n",
        "  // The FVP will shut down when it receives \"EXITTHESIM\" on the UART\n",
        "  printf(\"EXITTHESIM\\n\");\n",
        "  while (1 == 1)\n",
        "    ;\n",
        "  return 0;\n",
        "}"
      ],
      "metadata": {
        "id": "ZJ0Kn78BUB3j"
      },
      "execution_count": null,
      "outputs": []
    },
    {
      "cell_type": "markdown",
      "source": [
        "### Download the Makefile and store it in the ethosu_prj/ folder"
      ],
      "metadata": {
        "id": "iYH99vSWbILs"
      }
    },
    {
      "cell_type": "code",
      "source": [
        "!wget https://raw.githubusercontent.com/PacktPublishing/TinyML-Cookbook_2E/main/Chapter11/Assets/Makefile \\\n",
        "  -P ethosu_prj/"
      ],
      "metadata": {
        "id": "Wj3uFf6ZVtxz"
      },
      "execution_count": null,
      "outputs": []
    },
    {
      "cell_type": "markdown",
      "source": [
        "### Compile the application"
      ],
      "metadata": {
        "id": "FJc7W0XmTaA5"
      }
    },
    {
      "cell_type": "code",
      "source": [
        "!cd ethosu_prj; make"
      ],
      "metadata": {
        "id": "YivRWJVCKHrb"
      },
      "execution_count": null,
      "outputs": []
    },
    {
      "cell_type": "markdown",
      "source": [
        "### Run the application on the FVP model for the Arm Corstone-300 platform"
      ],
      "metadata": {
        "id": "N0zwpxolT1oF"
      }
    },
    {
      "cell_type": "code",
      "source": [
        "!cd ethosu_prj; FVP_Corstone_SSE-300_Ethos-U55 \\\n",
        "-C cpu0.CFGDTCMSZ=15 \\\n",
        "-C cpu0.CFGITCMSZ=15 \\\n",
        "-C mps3_board.uart0.out_file=\\\"-\\\" \\\n",
        "-C mps3_board.uart0.shutdown_tag=\\\"EXITTHESIM\\\" \\\n",
        "-C mps3_board.visualisation.disable-visualisation=1 \\\n",
        "-C mps3_board.telnetterminal0.start_telnet=0 \\\n",
        "-C mps3_board.telnetterminal1.start_telnet=0 \\\n",
        "-C mps3_board.telnetterminal2.start_telnet=0 \\\n",
        "-C mps3_board.telnetterminal5.start_telnet=0 \\\n",
        "-C ethosu.extra_args=\"--fast\" \\\n",
        "-C ethosu.num_macs=256 ./build/demo"
      ],
      "metadata": {
        "id": "ob_Z55AwcHXo"
      },
      "execution_count": null,
      "outputs": []
    }
  ]
}